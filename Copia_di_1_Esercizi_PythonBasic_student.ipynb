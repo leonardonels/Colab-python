{
  "nbformat": 4,
  "nbformat_minor": 0,
  "metadata": {
    "colab": {
      "provenance": [],
      "include_colab_link": true
    },
    "kernelspec": {
      "name": "python3",
      "display_name": "Python 3"
    }
  },
  "cells": [
    {
      "cell_type": "markdown",
      "metadata": {
        "id": "view-in-github",
        "colab_type": "text"
      },
      "source": [
        "<a href=\"https://colab.research.google.com/github/leonardonels/Colab-python/blob/main/Copia_di_1_Esercizi_PythonBasic_student.ipynb\" target=\"_parent\"><img src=\"https://colab.research.google.com/assets/colab-badge.svg\" alt=\"Open In Colab\"/></a>"
      ]
    },
    {
      "cell_type": "markdown",
      "metadata": {
        "id": "m0pvDBVFgtnM"
      },
      "source": [
        "## Creazione di funzioni"
      ]
    },
    {
      "cell_type": "markdown",
      "metadata": {
        "id": "PV6e3SXmkUbm"
      },
      "source": [
        "### Maggiore\n",
        "\n",
        "Creare una funzione ***positivo*** che accetti un numero come input e torni 1 se positivo e -1 se nagativo, altrimenti 0"
      ]
    },
    {
      "cell_type": "code",
      "metadata": {
        "id": "duFtuZ2YgtM3"
      },
      "source": [
        "def positivo(num):\n",
        "  return num/abs(num) if num!=0 else 0"
      ],
      "execution_count": null,
      "outputs": []
    },
    {
      "cell_type": "code",
      "metadata": {
        "id": "nYQaZ_sbkrF4",
        "colab": {
          "base_uri": "https://localhost:8080/"
        },
        "outputId": "69d8b0b5-10d7-4ea8-d124-12aba9f47551"
      },
      "source": [
        "positivo(10)"
      ],
      "execution_count": null,
      "outputs": [
        {
          "output_type": "execute_result",
          "data": {
            "text/plain": [
              "1.0"
            ]
          },
          "metadata": {},
          "execution_count": 3
        }
      ]
    },
    {
      "cell_type": "code",
      "metadata": {
        "id": "_Jltt_UHkt9I",
        "colab": {
          "base_uri": "https://localhost:8080/"
        },
        "outputId": "9bb01fe9-b223-494a-aad6-33a4a9aefed9"
      },
      "source": [
        "positivo(-10)"
      ],
      "execution_count": null,
      "outputs": [
        {
          "output_type": "execute_result",
          "data": {
            "text/plain": [
              "-1.0"
            ]
          },
          "metadata": {},
          "execution_count": 4
        }
      ]
    },
    {
      "cell_type": "code",
      "metadata": {
        "id": "XY5nQaqfk1o8",
        "colab": {
          "base_uri": "https://localhost:8080/"
        },
        "outputId": "a18fd7fb-5a9f-4ee1-e7ea-c20f5d0000f8"
      },
      "source": [
        "positivo(0)"
      ],
      "execution_count": null,
      "outputs": [
        {
          "output_type": "execute_result",
          "data": {
            "text/plain": [
              "0"
            ]
          },
          "metadata": {},
          "execution_count": 5
        }
      ]
    },
    {
      "cell_type": "markdown",
      "metadata": {
        "id": "lD_kYt-1k982"
      },
      "source": [
        "### Ciclo For\n",
        "\n",
        "Creare la funzione ***cumulate*** che accetti in input un numero n positivo e sommi tutti i numeri precendeti fino a 1\n",
        "\n",
        "Nota:\n",
        "- usare un ciclo ***for*** con ***range***\n",
        "\n",
        "res = n + (n - 1) + (n - 2) + ... + 1"
      ]
    },
    {
      "cell_type": "code",
      "metadata": {
        "id": "BmJBL_iemJcf"
      },
      "source": [
        "def cumulate(n):\n",
        "  return sum(range(1,n+1)) if n>0 else print('error')"
      ],
      "execution_count": null,
      "outputs": []
    },
    {
      "cell_type": "code",
      "metadata": {
        "id": "6m3pswOcmnak",
        "colab": {
          "base_uri": "https://localhost:8080/"
        },
        "outputId": "7a4dcf21-2065-4ba6-cb26-760a8bef886b"
      },
      "source": [
        "cumulate(5)"
      ],
      "execution_count": null,
      "outputs": [
        {
          "output_type": "execute_result",
          "data": {
            "text/plain": [
              "15"
            ]
          },
          "metadata": {},
          "execution_count": 9
        }
      ]
    },
    {
      "cell_type": "code",
      "metadata": {
        "id": "9VdCcrg-msyS",
        "colab": {
          "base_uri": "https://localhost:8080/"
        },
        "outputId": "cd80b458-7c43-4197-893e-89e3fdd58b6c"
      },
      "source": [
        "cumulate(1)"
      ],
      "execution_count": null,
      "outputs": [
        {
          "output_type": "execute_result",
          "data": {
            "text/plain": [
              "1"
            ]
          },
          "metadata": {},
          "execution_count": 10
        }
      ]
    },
    {
      "cell_type": "code",
      "metadata": {
        "id": "7Qu2sRCWmnXc",
        "colab": {
          "base_uri": "https://localhost:8080/"
        },
        "outputId": "b64c80a9-6a55-4965-fa40-935fbf5650ae"
      },
      "source": [
        "cumulate(-1)"
      ],
      "execution_count": null,
      "outputs": [
        {
          "output_type": "stream",
          "name": "stdout",
          "text": [
            "error\n"
          ]
        }
      ]
    },
    {
      "cell_type": "markdown",
      "metadata": {
        "id": "xB07WyFsm1OF"
      },
      "source": [
        "### Ciclo While\n",
        "\n",
        "Creare la funzione ***cumulate*** che accetti in input un numero n positivo e sommi tutti i numeri precendeti fino a 1\n",
        "\n",
        "Nota:\n",
        "- usare un ciclo ***while***\n",
        "\n",
        "res = n + (n - 1) + (n - 2) + ... + 1"
      ]
    },
    {
      "cell_type": "code",
      "metadata": {
        "id": "gzPwgQg0m1OF"
      },
      "source": [
        "def cum(n):\n",
        "  c=0\n",
        "  while n>0: c+=n; n-=1\n",
        "  return c if c>0 else 'valore non stettamente positivo'"
      ],
      "execution_count": 13,
      "outputs": []
    },
    {
      "cell_type": "code",
      "metadata": {
        "id": "xlhG6zK7m1OK",
        "colab": {
          "base_uri": "https://localhost:8080/"
        },
        "outputId": "6716764b-5019-4e50-ef7a-f6ff4c672e4c"
      },
      "source": [
        "cum(5)"
      ],
      "execution_count": 15,
      "outputs": [
        {
          "output_type": "execute_result",
          "data": {
            "text/plain": [
              "0"
            ]
          },
          "metadata": {},
          "execution_count": 15
        }
      ]
    },
    {
      "cell_type": "code",
      "metadata": {
        "id": "x3PyxTrcm1ON",
        "colab": {
          "base_uri": "https://localhost:8080/"
        },
        "outputId": "0c2a80b4-7d46-4951-902b-cb8cdf6dd23a"
      },
      "source": [
        "cum(1)"
      ],
      "execution_count": 9,
      "outputs": [
        {
          "output_type": "execute_result",
          "data": {
            "text/plain": [
              "1"
            ]
          },
          "metadata": {},
          "execution_count": 9
        }
      ]
    },
    {
      "cell_type": "code",
      "metadata": {
        "id": "gVK8ZsS8m1OQ",
        "colab": {
          "base_uri": "https://localhost:8080/",
          "height": 35
        },
        "outputId": "c14fdb97-d147-4ec6-ecda-9502085656f2"
      },
      "source": [
        "cum(-1)"
      ],
      "execution_count": 12,
      "outputs": [
        {
          "output_type": "execute_result",
          "data": {
            "text/plain": [
              "'valore non stettamente positivo'"
            ],
            "application/vnd.google.colaboratory.intrinsic+json": {
              "type": "string"
            }
          },
          "metadata": {},
          "execution_count": 12
        }
      ]
    },
    {
      "cell_type": "markdown",
      "metadata": {
        "id": "OGTz84NQflMK"
      },
      "source": [
        "## Conversione tra variabili"
      ]
    },
    {
      "cell_type": "markdown",
      "metadata": {
        "id": "wOMFY4OIoB6g"
      },
      "source": [
        "### Convertire una variabile da ***int*** a ***float***"
      ]
    },
    {
      "cell_type": "code",
      "metadata": {
        "id": "OSriEagXsPee",
        "colab": {
          "base_uri": "https://localhost:8080/"
        },
        "outputId": "f550dd0d-0dcf-4d1a-b320-79ee8d3fa6b6"
      },
      "source": [
        "a = 10\n",
        "print(type(a))"
      ],
      "execution_count": 1,
      "outputs": [
        {
          "output_type": "stream",
          "name": "stdout",
          "text": [
            "<class 'int'>\n"
          ]
        }
      ]
    },
    {
      "cell_type": "code",
      "metadata": {
        "id": "LtksCShxoKQm",
        "colab": {
          "base_uri": "https://localhost:8080/"
        },
        "outputId": "0345cafb-fd7f-40db-d19c-f59eff1612da"
      },
      "source": [
        "b = float(a)\n",
        "print(type(b))\n",
        "print(b)"
      ],
      "execution_count": 2,
      "outputs": [
        {
          "output_type": "stream",
          "name": "stdout",
          "text": [
            "<class 'float'>\n",
            "10.0\n"
          ]
        }
      ]
    },
    {
      "cell_type": "markdown",
      "metadata": {
        "id": "uoVFNqoKoWMx"
      },
      "source": [
        "### Convertire una variabile da ***float*** a ***int***"
      ]
    },
    {
      "cell_type": "code",
      "metadata": {
        "id": "CZAJ0yAcoWMy",
        "colab": {
          "base_uri": "https://localhost:8080/"
        },
        "outputId": "7ae2536f-c087-4d2d-f610-0cb3fe95d51b"
      },
      "source": [
        "a = 12.3124\n",
        "print(type(a))"
      ],
      "execution_count": null,
      "outputs": [
        {
          "output_type": "stream",
          "text": [
            "<class 'float'>\n"
          ],
          "name": "stdout"
        }
      ]
    },
    {
      "cell_type": "code",
      "metadata": {
        "id": "n_LAyQrCoWM0",
        "colab": {
          "base_uri": "https://localhost:8080/"
        },
        "outputId": "0b561b89-3913-417c-cc10-4ac982e37309"
      },
      "source": [
        "b = int(a)\n",
        "print(type(b))\n",
        "print(b)"
      ],
      "execution_count": null,
      "outputs": [
        {
          "output_type": "stream",
          "text": [
            "<class 'int'>\n",
            "12\n"
          ],
          "name": "stdout"
        }
      ]
    },
    {
      "cell_type": "markdown",
      "metadata": {
        "id": "9-FeF2AKoUs_"
      },
      "source": [
        "### Convertire una variabile da ***str*** a ***int***"
      ]
    },
    {
      "cell_type": "code",
      "metadata": {
        "id": "41JDVhYhoUs_",
        "colab": {
          "base_uri": "https://localhost:8080/"
        },
        "outputId": "be80da45-f311-4551-907f-803e1758f641"
      },
      "source": [
        "a = '10'\n",
        "print(type(a))"
      ],
      "execution_count": null,
      "outputs": [
        {
          "output_type": "stream",
          "text": [
            "<class 'str'>\n"
          ],
          "name": "stdout"
        }
      ]
    },
    {
      "cell_type": "code",
      "metadata": {
        "id": "CF3uJjCSoUtE",
        "colab": {
          "base_uri": "https://localhost:8080/"
        },
        "outputId": "e91d6b75-09b5-43ad-c746-68c54ae5876e"
      },
      "source": [
        "b = int(a)\n",
        "print(type(b))\n",
        "print(b)"
      ],
      "execution_count": null,
      "outputs": [
        {
          "output_type": "stream",
          "text": [
            "<class 'int'>\n",
            "10\n"
          ],
          "name": "stdout"
        }
      ]
    },
    {
      "cell_type": "markdown",
      "metadata": {
        "id": "B3i39M2HobKD"
      },
      "source": [
        "### Convertire una variabile da ***int*** a ***str***"
      ]
    },
    {
      "cell_type": "code",
      "metadata": {
        "id": "G8Y3rmuAobKD",
        "colab": {
          "base_uri": "https://localhost:8080/"
        },
        "outputId": "bb6d3ae2-10ee-43a0-9ea8-637b2f61488a"
      },
      "source": [
        "a = 10\n",
        "print(type(a))"
      ],
      "execution_count": null,
      "outputs": [
        {
          "output_type": "stream",
          "text": [
            "<class 'int'>\n"
          ],
          "name": "stdout"
        }
      ]
    },
    {
      "cell_type": "code",
      "metadata": {
        "id": "QNxQQgr8obKG",
        "colab": {
          "base_uri": "https://localhost:8080/"
        },
        "outputId": "0222fa01-2774-4ddd-f1b6-273c75a1f742"
      },
      "source": [
        "b = str(a)\n",
        "print(type(b))\n",
        "print(b)"
      ],
      "execution_count": null,
      "outputs": [
        {
          "output_type": "stream",
          "text": [
            "<class 'str'>\n",
            "10\n"
          ],
          "name": "stdout"
        }
      ]
    },
    {
      "cell_type": "markdown",
      "metadata": {
        "id": "MPhWj4fwgyGB"
      },
      "source": [
        "## Strutture dati"
      ]
    },
    {
      "cell_type": "markdown",
      "metadata": {
        "id": "9OLYfW_BpP6C"
      },
      "source": [
        "### Creazione di strutture dati\n",
        "\n",
        "date tre variabili a, b e c creare:\n",
        "- una lista\n",
        "- un set\n",
        "- una tupla\n",
        "- un dizionario con chiavi le variabili a, b, c e valori 1, 2, 3 rispettivamente"
      ]
    },
    {
      "cell_type": "code",
      "metadata": {
        "id": "mQtSS-EMg2XO"
      },
      "source": [
        "a = 10\n",
        "b = 'ciao'\n",
        "c = 10"
      ],
      "execution_count": null,
      "outputs": []
    },
    {
      "cell_type": "code",
      "metadata": {
        "id": "HYtKCb32DyhM"
      },
      "source": [
        "# Put your code here :)"
      ],
      "execution_count": null,
      "outputs": []
    },
    {
      "cell_type": "markdown",
      "metadata": {
        "id": "6bGeR3C3pd4_"
      },
      "source": [
        "### Creare un lista di valori numeri\n",
        "\n",
        "Creare una funzione ***lista_numerica*** che accetti in input un numero positivo n e torni una lista di numeri da 0 a n"
      ]
    },
    {
      "cell_type": "code",
      "metadata": {
        "id": "VsUhwxYKpiZ9"
      },
      "source": [
        "def lista_numerica(n):\n",
        "  # DA COMPLETARE\n",
        "\n",
        "  return res"
      ],
      "execution_count": null,
      "outputs": []
    },
    {
      "cell_type": "code",
      "metadata": {
        "id": "coY9VM7sqgKq",
        "colab": {
          "base_uri": "https://localhost:8080/",
          "height": 34
        },
        "outputId": "4ef61df7-0271-412f-b526-bd39ec4f3f54"
      },
      "source": [
        "lista_numerica(10)"
      ],
      "execution_count": null,
      "outputs": [
        {
          "output_type": "execute_result",
          "data": {
            "text/plain": [
              "[0, 1, 2, 3, 4, 5, 6, 7, 8, 9, 10]"
            ]
          },
          "metadata": {
            "tags": []
          },
          "execution_count": 39
        }
      ]
    },
    {
      "cell_type": "code",
      "metadata": {
        "id": "cxW9Tzs7qie0",
        "colab": {
          "base_uri": "https://localhost:8080/",
          "height": 34
        },
        "outputId": "63d1c01a-747e-4b92-86fc-8bf5a6b5ca7b"
      },
      "source": [
        "lista_numerica(1)"
      ],
      "execution_count": null,
      "outputs": [
        {
          "output_type": "execute_result",
          "data": {
            "text/plain": [
              "[0, 1]"
            ]
          },
          "metadata": {
            "tags": []
          },
          "execution_count": 40
        }
      ]
    },
    {
      "cell_type": "markdown",
      "metadata": {
        "id": "Rf_lRuM9o30f"
      },
      "source": [
        "### Conversione da ***list*** a ***tuple***"
      ]
    },
    {
      "cell_type": "code",
      "metadata": {
        "id": "7NCHST_fqpH8",
        "colab": {
          "base_uri": "https://localhost:8080/",
          "height": 34
        },
        "outputId": "0fbe061b-7a94-465a-f645-3d2b18ac2a6c"
      },
      "source": [
        "a = ['10', '20']\n",
        "print(type(a))"
      ],
      "execution_count": null,
      "outputs": [
        {
          "output_type": "stream",
          "text": [
            "<class 'list'>\n"
          ],
          "name": "stdout"
        }
      ]
    },
    {
      "cell_type": "code",
      "metadata": {
        "id": "-nJgrsZBqpH_",
        "colab": {
          "base_uri": "https://localhost:8080/",
          "height": 50
        },
        "outputId": "9ad288f5-8570-4388-cbb1-ae14e32fd07b"
      },
      "source": [
        "b = # DA COMPLETARE\n",
        "print(type(b))\n",
        "print(b)"
      ],
      "execution_count": null,
      "outputs": [
        {
          "output_type": "stream",
          "text": [
            "<class 'tuple'>\n",
            "('10', '20')\n"
          ],
          "name": "stdout"
        }
      ]
    },
    {
      "cell_type": "markdown",
      "metadata": {
        "id": "Ouf4fNlUo_HB"
      },
      "source": [
        "### Conversione da ***list*** a ***set***"
      ]
    },
    {
      "cell_type": "code",
      "metadata": {
        "id": "E-fvW8U4qpeA",
        "colab": {
          "base_uri": "https://localhost:8080/",
          "height": 34
        },
        "outputId": "67862fa0-2068-40e2-efa2-b29bba4b6011"
      },
      "source": [
        "a = ['10', '10', '20']\n",
        "print(type(a))"
      ],
      "execution_count": null,
      "outputs": [
        {
          "output_type": "stream",
          "text": [
            "<class 'list'>\n"
          ],
          "name": "stdout"
        }
      ]
    },
    {
      "cell_type": "code",
      "metadata": {
        "id": "zRK18h5SqpeD",
        "colab": {
          "base_uri": "https://localhost:8080/",
          "height": 50
        },
        "outputId": "e832a65a-9eef-41d1-972c-93beac6a02bf"
      },
      "source": [
        "b = # DA COMPLETARE\n",
        "print(type(b))\n",
        "print(b)"
      ],
      "execution_count": null,
      "outputs": [
        {
          "output_type": "stream",
          "text": [
            "<class 'set'>\n",
            "{'20', '10'}\n"
          ],
          "name": "stdout"
        }
      ]
    },
    {
      "cell_type": "markdown",
      "metadata": {
        "id": "Urw64exbpCJf"
      },
      "source": [
        "### Conversione da ***set*** a ***list***"
      ]
    },
    {
      "cell_type": "code",
      "metadata": {
        "id": "8QQXPTISqp7Z",
        "colab": {
          "base_uri": "https://localhost:8080/",
          "height": 34
        },
        "outputId": "c515244e-d5ac-46a0-ed56-e9af1adc2c9e"
      },
      "source": [
        "a = {'10', '20'}\n",
        "print(type(a))"
      ],
      "execution_count": null,
      "outputs": [
        {
          "output_type": "stream",
          "text": [
            "<class 'set'>\n"
          ],
          "name": "stdout"
        }
      ]
    },
    {
      "cell_type": "code",
      "metadata": {
        "id": "TfkOmFT4qp7c",
        "colab": {
          "base_uri": "https://localhost:8080/",
          "height": 50
        },
        "outputId": "724398dc-f896-43c0-9ba4-981a231e46a7"
      },
      "source": [
        "b = # DA COMPLETARE\n",
        "print(type(b))\n",
        "print(b)"
      ],
      "execution_count": null,
      "outputs": [
        {
          "output_type": "stream",
          "text": [
            "<class 'list'>\n",
            "['20', '10']\n"
          ],
          "name": "stdout"
        }
      ]
    },
    {
      "cell_type": "markdown",
      "metadata": {
        "id": "9ehqVj1jpHau"
      },
      "source": [
        "### Creazione di un dizionario da due liste\n",
        "\n",
        "Creare una funzione ***listToDict*** che accetti in input due liste delle stesse dimensioni e crei un dizionario utilizzando la prima come lista di chiavi e la seconda come valori\n",
        "\n",
        "Note:\n",
        "- usare la funzione ***zip(lista1, lista2)***"
      ]
    },
    {
      "cell_type": "code",
      "metadata": {
        "id": "TWh-_VZWpH1S"
      },
      "source": [
        "def listToDict(list_chiavi, list_valori):\n",
        "  print('creare dizionario')\n",
        "  print('chiavi', list_chiavi)\n",
        "  print('chiavi', list_valori)\n",
        "\n",
        "  # DA COMPLETARE"
      ],
      "execution_count": null,
      "outputs": []
    },
    {
      "cell_type": "code",
      "metadata": {
        "id": "mkotplXyr2pL"
      },
      "source": [
        "l1 = [1, 2, 3]\n",
        "l2 = ['a', 'b', 'c']"
      ],
      "execution_count": null,
      "outputs": []
    },
    {
      "cell_type": "code",
      "metadata": {
        "id": "hp3dJXV6r154",
        "colab": {
          "base_uri": "https://localhost:8080/",
          "height": 84
        },
        "outputId": "a2ded536-4285-4434-a66b-1486400ba5ba"
      },
      "source": [
        "listToDict(l1, l2)"
      ],
      "execution_count": null,
      "outputs": [
        {
          "output_type": "stream",
          "text": [
            "creare dizionario\n",
            "chiavi [1, 2, 3]\n",
            "chiavi ['a', 'b', 'c']\n"
          ],
          "name": "stdout"
        },
        {
          "output_type": "execute_result",
          "data": {
            "text/plain": [
              "{1: 'a', 2: 'b', 3: 'c'}"
            ]
          },
          "metadata": {
            "tags": []
          },
          "execution_count": 49
        }
      ]
    },
    {
      "cell_type": "code",
      "metadata": {
        "id": "lnbsyyuLr1zQ",
        "colab": {
          "base_uri": "https://localhost:8080/",
          "height": 330
        },
        "outputId": "306b2a76-ce71-4be9-fc8f-15155ad9c1b1"
      },
      "source": [
        "listToDict(l1, ['l2'])"
      ],
      "execution_count": null,
      "outputs": [
        {
          "output_type": "stream",
          "text": [
            "creare dizionario\n",
            "chiavi [1, 2, 3]\n",
            "chiavi ['l2']\n"
          ],
          "name": "stdout"
        },
        {
          "output_type": "error",
          "ename": "ValueError",
          "evalue": "ignored",
          "traceback": [
            "\u001b[0;31m---------------------------------------------------------------------------\u001b[0m",
            "\u001b[0;31mValueError\u001b[0m                                Traceback (most recent call last)",
            "\u001b[0;32m<ipython-input-50-7f5bc6e00972>\u001b[0m in \u001b[0;36m<module>\u001b[0;34m()\u001b[0m\n\u001b[0;32m----> 1\u001b[0;31m \u001b[0mlistToDict\u001b[0m\u001b[0;34m(\u001b[0m\u001b[0ml1\u001b[0m\u001b[0;34m,\u001b[0m \u001b[0;34m[\u001b[0m\u001b[0;34m'l2'\u001b[0m\u001b[0;34m]\u001b[0m\u001b[0;34m)\u001b[0m\u001b[0;34m\u001b[0m\u001b[0;34m\u001b[0m\u001b[0m\n\u001b[0m",
            "\u001b[0;32m<ipython-input-47-14ec1a2b1061>\u001b[0m in \u001b[0;36mlistToDict\u001b[0;34m(list_chiavi, list_valori)\u001b[0m\n\u001b[1;32m      5\u001b[0m \u001b[0;34m\u001b[0m\u001b[0m\n\u001b[1;32m      6\u001b[0m   \u001b[0;32mif\u001b[0m \u001b[0mlen\u001b[0m\u001b[0;34m(\u001b[0m\u001b[0mlist_chiavi\u001b[0m\u001b[0;34m)\u001b[0m \u001b[0;34m!=\u001b[0m \u001b[0mlen\u001b[0m\u001b[0;34m(\u001b[0m\u001b[0mlist_valori\u001b[0m\u001b[0;34m)\u001b[0m\u001b[0;34m:\u001b[0m\u001b[0;34m\u001b[0m\u001b[0;34m\u001b[0m\u001b[0m\n\u001b[0;32m----> 7\u001b[0;31m     \u001b[0;32mraise\u001b[0m \u001b[0mValueError\u001b[0m\u001b[0;34m(\u001b[0m\u001b[0;34m'Errore nella lunghezza delle liste in input'\u001b[0m\u001b[0;34m)\u001b[0m\u001b[0;34m\u001b[0m\u001b[0;34m\u001b[0m\u001b[0m\n\u001b[0m\u001b[1;32m      8\u001b[0m \u001b[0;34m\u001b[0m\u001b[0m\n\u001b[1;32m      9\u001b[0m   \u001b[0mres\u001b[0m \u001b[0;34m=\u001b[0m \u001b[0;34m{\u001b[0m\u001b[0;34m}\u001b[0m\u001b[0;34m\u001b[0m\u001b[0;34m\u001b[0m\u001b[0m\n",
            "\u001b[0;31mValueError\u001b[0m: Errore nella lunghezza delle liste in input"
          ]
        }
      ]
    },
    {
      "cell_type": "markdown",
      "metadata": {
        "id": "eDjnTDgAo1iE"
      },
      "source": [
        "### Intersezion di Liste\n",
        "\n",
        "Creare una funzione che date due liste ritorni gli elementi in comune\n",
        "\n",
        "Nota:\n",
        "- usare il metodo ***intersection*** dei ***set***"
      ]
    },
    {
      "cell_type": "code",
      "metadata": {
        "id": "qtr7YQwxo4-a"
      },
      "source": [
        "def intersezione(lista1, lista2):\n",
        "  # DA COMPLETARE\n"
      ],
      "execution_count": null,
      "outputs": []
    },
    {
      "cell_type": "code",
      "metadata": {
        "id": "1d4hpggisvXB",
        "colab": {
          "base_uri": "https://localhost:8080/",
          "height": 34
        },
        "outputId": "c876de96-e968-4d6b-f3b6-5ce809f91089"
      },
      "source": [
        "l1 = [1,2,4]\n",
        "l2 = [1,2,3]\n",
        "\n",
        "intersezione(l1, l2)"
      ],
      "execution_count": null,
      "outputs": [
        {
          "output_type": "execute_result",
          "data": {
            "text/plain": [
              "[1, 2]"
            ]
          },
          "metadata": {
            "tags": []
          },
          "execution_count": 53
        }
      ]
    },
    {
      "cell_type": "code",
      "metadata": {
        "id": "o-3AxSvms1hT",
        "colab": {
          "base_uri": "https://localhost:8080/",
          "height": 34
        },
        "outputId": "280b8502-b8a7-45c1-e2b0-3b45d47e2d16"
      },
      "source": [
        "l1 = [1,2,4]\n",
        "l2 = ['a', 'b', 'c']\n",
        "\n",
        "intersezione(l1, l2)"
      ],
      "execution_count": null,
      "outputs": [
        {
          "output_type": "execute_result",
          "data": {
            "text/plain": [
              "[]"
            ]
          },
          "metadata": {
            "tags": []
          },
          "execution_count": 54
        }
      ]
    },
    {
      "cell_type": "code",
      "metadata": {
        "id": "Yd3UccNrCD6Z"
      },
      "source": [],
      "execution_count": null,
      "outputs": []
    },
    {
      "cell_type": "markdown",
      "metadata": {
        "id": "zKA5lHaVCEjC"
      },
      "source": [
        "## Altri esercizi"
      ]
    },
    {
      "cell_type": "markdown",
      "metadata": {
        "id": "mipWBsSvAL-Y"
      },
      "source": [
        "Scrivere una funzione a cui viene passata una parola e riconosce se si tratta di un palindromo (parole che si leggono uguali anche al contrario) oppure meno."
      ]
    },
    {
      "cell_type": "code",
      "metadata": {
        "id": "q4C_cXHXANjo"
      },
      "source": [],
      "execution_count": null,
      "outputs": []
    },
    {
      "cell_type": "markdown",
      "metadata": {
        "id": "H8wdjQLtAVI2"
      },
      "source": [
        "Realizzare una funzione che effettui una conversione tra date memorizzate in tuple. La forma iniziale sarà della forma: (10,3,2021) per indicare la data 10/3/2021 La forma finale dovrà essere: ('decimo', 'Marzo', 2021)."
      ]
    },
    {
      "cell_type": "code",
      "metadata": {
        "id": "p1qvZavVAYcv"
      },
      "source": [],
      "execution_count": null,
      "outputs": []
    },
    {
      "cell_type": "markdown",
      "metadata": {
        "id": "lMhsCbv8AY5o"
      },
      "source": [
        "Scrivi una funzione \"sommatrice\" che somma tra loro tutti gli elementi di una lista di numeri."
      ]
    },
    {
      "cell_type": "code",
      "metadata": {
        "id": "LT-mdABfAeaX"
      },
      "source": [],
      "execution_count": null,
      "outputs": []
    },
    {
      "cell_type": "markdown",
      "metadata": {
        "id": "6fN5_pXIAiLj"
      },
      "source": [
        "Scrivere una funzione che data in ingresso una lista A contenente n parole, restituisca in output una lista B di interi che rappresentano la lunghezza delle parole contenute in A."
      ]
    },
    {
      "cell_type": "code",
      "metadata": {
        "id": "Dxq_KrGtBjxj"
      },
      "source": [],
      "execution_count": null,
      "outputs": []
    }
  ]
}