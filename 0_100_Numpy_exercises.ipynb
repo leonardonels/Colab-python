{
  "cells": [
    {
      "cell_type": "markdown",
      "metadata": {
        "id": "view-in-github",
        "colab_type": "text"
      },
      "source": [
        "<a href=\"https://colab.research.google.com/github/leonardonels/Colab-python/blob/main/Copia_di_100_Numpy_exercises.ipynb\" target=\"_parent\"><img src=\"https://colab.research.google.com/assets/colab-badge.svg\" alt=\"Open In Colab\"/></a>"
      ]
    },
    {
      "cell_type": "markdown",
      "id": "6293cc50",
      "metadata": {
        "id": "6293cc50"
      },
      "source": [
        "# 100 numpy exercises\n",
        "\n",
        "This is a collection of exercises that have been collected in the numpy mailing list, on stack overflow\n",
        "and in the numpy documentation. The goal of this collection is to offer a quick reference for both old\n",
        "and new users but also to provide a set of exercises for those who teach.\n",
        "\n",
        "\n",
        "If you find an error or think you've a better way to solve some of them, feel\n",
        "free to open an issue at <https://github.com/rougier/numpy-100>."
      ]
    },
    {
      "cell_type": "markdown",
      "id": "a167c052",
      "metadata": {
        "id": "a167c052"
      },
      "source": [
        "File automatically generated. See the documentation to update questions/answers/hints programmatically."
      ]
    },
    {
      "cell_type": "markdown",
      "id": "57fc0ee5",
      "metadata": {
        "id": "57fc0ee5"
      },
      "source": [
        "Run the `initialize.py` module, then for each question you can query the\n",
        "answer or an hint with `hint(n)` or `answer(n)` for `n` question number."
      ]
    },
    {
      "cell_type": "code",
      "execution_count": null,
      "id": "3d46fba2",
      "metadata": {
        "id": "3d46fba2"
      },
      "outputs": [],
      "source": [
        "%run initialise.py"
      ]
    },
    {
      "cell_type": "markdown",
      "id": "3c1222ff",
      "metadata": {
        "id": "3c1222ff"
      },
      "source": [
        "#### 1. Import the numpy package under the name `np` (★☆☆)"
      ]
    },
    {
      "cell_type": "code",
      "execution_count": 25,
      "id": "f52e6a0b",
      "metadata": {
        "id": "f52e6a0b"
      },
      "outputs": [],
      "source": [
        "import numpy as np"
      ]
    },
    {
      "cell_type": "markdown",
      "id": "9d9f4753",
      "metadata": {
        "id": "9d9f4753"
      },
      "source": [
        "#### 2. Print the numpy version and the configuration (★☆☆)"
      ]
    },
    {
      "cell_type": "code",
      "execution_count": 27,
      "id": "b7fa5fa1",
      "metadata": {
        "id": "b7fa5fa1",
        "colab": {
          "base_uri": "https://localhost:8080/"
        },
        "outputId": "7fff5176-c2b3-4130-da64-39fd35475d98"
      },
      "outputs": [
        {
          "output_type": "stream",
          "name": "stdout",
          "text": [
            "1.26.4\n",
            "Build Dependencies:\n",
            "  blas:\n",
            "    detection method: pkgconfig\n",
            "    found: true\n",
            "    include directory: /usr/local/include\n",
            "    lib directory: /usr/local/lib\n",
            "    name: openblas64\n",
            "    openblas configuration: USE_64BITINT=1 DYNAMIC_ARCH=1 DYNAMIC_OLDER= NO_CBLAS=\n",
            "      NO_LAPACK= NO_LAPACKE= NO_AFFINITY=1 USE_OPENMP= HASWELL MAX_THREADS=2\n",
            "    pc file directory: /usr/local/lib/pkgconfig\n",
            "    version: 0.3.23.dev\n",
            "  lapack:\n",
            "    detection method: internal\n",
            "    found: true\n",
            "    include directory: unknown\n",
            "    lib directory: unknown\n",
            "    name: dep139863411681952\n",
            "    openblas configuration: unknown\n",
            "    pc file directory: unknown\n",
            "    version: 1.26.4\n",
            "Compilers:\n",
            "  c:\n",
            "    args: -fno-strict-aliasing\n",
            "    commands: cc\n",
            "    linker: ld.bfd\n",
            "    linker args: -Wl,--strip-debug, -fno-strict-aliasing\n",
            "    name: gcc\n",
            "    version: 10.2.1\n",
            "  c++:\n",
            "    commands: c++\n",
            "    linker: ld.bfd\n",
            "    linker args: -Wl,--strip-debug\n",
            "    name: gcc\n",
            "    version: 10.2.1\n",
            "  cython:\n",
            "    commands: cython\n",
            "    linker: cython\n",
            "    name: cython\n",
            "    version: 3.0.8\n",
            "Machine Information:\n",
            "  build:\n",
            "    cpu: x86_64\n",
            "    endian: little\n",
            "    family: x86_64\n",
            "    system: linux\n",
            "  host:\n",
            "    cpu: x86_64\n",
            "    endian: little\n",
            "    family: x86_64\n",
            "    system: linux\n",
            "Python Information:\n",
            "  path: /opt/python/cp310-cp310/bin/python\n",
            "  version: '3.10'\n",
            "SIMD Extensions:\n",
            "  baseline:\n",
            "  - SSE\n",
            "  - SSE2\n",
            "  - SSE3\n",
            "  found:\n",
            "  - SSSE3\n",
            "  - SSE41\n",
            "  - POPCNT\n",
            "  - SSE42\n",
            "  - AVX\n",
            "  - F16C\n",
            "  - FMA3\n",
            "  - AVX2\n",
            "  not found:\n",
            "  - AVX512F\n",
            "  - AVX512CD\n",
            "  - AVX512_KNL\n",
            "  - AVX512_KNM\n",
            "  - AVX512_SKX\n",
            "  - AVX512_CLX\n",
            "  - AVX512_CNL\n",
            "  - AVX512_ICL\n",
            "\n"
          ]
        }
      ],
      "source": [
        "print(np.__version__)\n",
        "np.show_config()"
      ]
    },
    {
      "cell_type": "markdown",
      "id": "3e4c23c6",
      "metadata": {
        "id": "3e4c23c6"
      },
      "source": [
        "#### 3. Create a null vector of size 10 (★☆☆)"
      ]
    },
    {
      "cell_type": "code",
      "execution_count": 26,
      "id": "083c5c46",
      "metadata": {
        "id": "083c5c46",
        "colab": {
          "base_uri": "https://localhost:8080/"
        },
        "outputId": "6006a275-a8d4-432c-e7e9-3451ce06fe33"
      },
      "outputs": [
        {
          "output_type": "stream",
          "name": "stdout",
          "text": [
            "[0. 0. 0. 0. 0. 0. 0. 0. 0. 0.]\n"
          ]
        }
      ],
      "source": [
        "Z = np.zeros(10)\n",
        "print(Z)"
      ]
    },
    {
      "cell_type": "markdown",
      "id": "c38bbe82",
      "metadata": {
        "id": "c38bbe82"
      },
      "source": [
        "#### 4. How to find the memory size of any array (★☆☆)"
      ]
    },
    {
      "cell_type": "code",
      "execution_count": 28,
      "id": "02b04021",
      "metadata": {
        "id": "02b04021",
        "colab": {
          "base_uri": "https://localhost:8080/"
        },
        "outputId": "2eef558e-ec16-401e-832f-b38d9077bc98"
      },
      "outputs": [
        {
          "output_type": "stream",
          "name": "stdout",
          "text": [
            "800 bytes\n"
          ]
        }
      ],
      "source": [
        "Z = np.zeros((10,10))\n",
        "print(\"%d bytes\" % (Z.size * Z.itemsize))"
      ]
    },
    {
      "cell_type": "markdown",
      "id": "67f893d4",
      "metadata": {
        "id": "67f893d4"
      },
      "source": [
        "#### 5. How to get the documentation of the numpy add function from the command line? (★☆☆)"
      ]
    },
    {
      "cell_type": "code",
      "execution_count": 31,
      "id": "40e6b70d",
      "metadata": {
        "id": "40e6b70d"
      },
      "outputs": [],
      "source": []
    },
    {
      "cell_type": "markdown",
      "id": "e0c739c6",
      "metadata": {
        "id": "e0c739c6"
      },
      "source": [
        "#### 6. Create a null vector of size 10 but the fifth value which is 1 (★☆☆)"
      ]
    },
    {
      "cell_type": "code",
      "execution_count": 32,
      "id": "bcceacf7",
      "metadata": {
        "id": "bcceacf7",
        "colab": {
          "base_uri": "https://localhost:8080/"
        },
        "outputId": "a7736949-c266-4132-cd82-7b09fece4c7c"
      },
      "outputs": [
        {
          "output_type": "stream",
          "name": "stdout",
          "text": [
            "[0. 0. 0. 0. 1. 0. 0. 0. 0. 0.]\n"
          ]
        }
      ],
      "source": [
        "Z = np.zeros(10)\n",
        "Z[4] = 1\n",
        "print(Z)"
      ]
    },
    {
      "cell_type": "markdown",
      "id": "fbebedab",
      "metadata": {
        "id": "fbebedab"
      },
      "source": [
        "#### 7. Create a vector with values ranging from 10 to 49 (★☆☆)"
      ]
    },
    {
      "cell_type": "code",
      "execution_count": 33,
      "id": "3d117d54",
      "metadata": {
        "id": "3d117d54",
        "colab": {
          "base_uri": "https://localhost:8080/"
        },
        "outputId": "f0888553-6142-4cb4-b508-6b9390ee8e02"
      },
      "outputs": [
        {
          "output_type": "stream",
          "name": "stdout",
          "text": [
            "[10 11 12 13 14 15 16 17 18 19 20 21 22 23 24 25 26 27 28 29 30 31 32 33\n",
            " 34 35 36 37 38 39 40 41 42 43 44 45 46 47 48 49]\n"
          ]
        }
      ],
      "source": [
        "Z = np.arange(10,50)\n",
        "print(Z)"
      ]
    },
    {
      "cell_type": "markdown",
      "id": "ad0bff02",
      "metadata": {
        "id": "ad0bff02"
      },
      "source": [
        "#### 8. Reverse a vector (first element becomes last) (★☆☆)"
      ]
    },
    {
      "cell_type": "code",
      "execution_count": 34,
      "id": "22d23470",
      "metadata": {
        "id": "22d23470",
        "colab": {
          "base_uri": "https://localhost:8080/"
        },
        "outputId": "755b5c69-9f95-44f0-c552-bae193c9b6ed"
      },
      "outputs": [
        {
          "output_type": "stream",
          "name": "stdout",
          "text": [
            "[49 48 47 46 45 44 43 42 41 40 39 38 37 36 35 34 33 32 31 30 29 28 27 26\n",
            " 25 24 23 22 21 20 19 18 17 16 15 14 13 12 11 10  9  8  7  6  5  4  3  2\n",
            "  1  0]\n"
          ]
        }
      ],
      "source": [
        "Z = np.arange(50)\n",
        "Z = Z[::-1]\n",
        "print(Z)"
      ]
    },
    {
      "cell_type": "markdown",
      "id": "9f59d7e1",
      "metadata": {
        "id": "9f59d7e1"
      },
      "source": [
        "#### 9. Create a 3x3 matrix with values ranging from 0 to 8 (★☆☆)"
      ]
    },
    {
      "cell_type": "code",
      "execution_count": 35,
      "id": "7449e82d",
      "metadata": {
        "id": "7449e82d",
        "colab": {
          "base_uri": "https://localhost:8080/"
        },
        "outputId": "fe9c5a60-5e0f-4b09-c5ec-29a93e98578b"
      },
      "outputs": [
        {
          "output_type": "stream",
          "name": "stdout",
          "text": [
            "[[0 1 2]\n",
            " [3 4 5]\n",
            " [6 7 8]]\n"
          ]
        }
      ],
      "source": [
        "Z = np.arange(9).reshape(3, 3)\n",
        "print(Z)"
      ]
    },
    {
      "cell_type": "markdown",
      "id": "f374c4cf",
      "metadata": {
        "id": "f374c4cf"
      },
      "source": [
        "#### 10. Find indices of non-zero elements from [1,2,0,0,4,0] (★☆☆)"
      ]
    },
    {
      "cell_type": "code",
      "execution_count": 37,
      "id": "1a84bed8",
      "metadata": {
        "id": "1a84bed8",
        "colab": {
          "base_uri": "https://localhost:8080/"
        },
        "outputId": "375bc226-de18-4aff-d516-341d6607af53"
      },
      "outputs": [
        {
          "output_type": "stream",
          "name": "stdout",
          "text": [
            "(array([0, 1, 4]),)\n"
          ]
        }
      ],
      "source": [
        "nz = np.nonzero([1,2,0,0,4,0])\n",
        "print(nz)"
      ]
    },
    {
      "cell_type": "markdown",
      "id": "9c4707f5",
      "metadata": {
        "id": "9c4707f5"
      },
      "source": [
        "#### 11. Create a 3x3 identity matrix (★☆☆)"
      ]
    },
    {
      "cell_type": "code",
      "execution_count": 38,
      "id": "29dc1fd3",
      "metadata": {
        "id": "29dc1fd3",
        "colab": {
          "base_uri": "https://localhost:8080/"
        },
        "outputId": "d28d4423-150c-4915-e7c7-17a5734214da"
      },
      "outputs": [
        {
          "output_type": "stream",
          "name": "stdout",
          "text": [
            "[[1. 0. 0.]\n",
            " [0. 1. 0.]\n",
            " [0. 0. 1.]]\n"
          ]
        }
      ],
      "source": [
        "Z = np.eye(3)\n",
        "print(Z)"
      ]
    },
    {
      "cell_type": "markdown",
      "id": "3bac294a",
      "metadata": {
        "id": "3bac294a"
      },
      "source": [
        "#### 12. Create a 3x3x3 array with random values (★☆☆)"
      ]
    },
    {
      "cell_type": "code",
      "execution_count": 39,
      "id": "eadfae67",
      "metadata": {
        "id": "eadfae67",
        "colab": {
          "base_uri": "https://localhost:8080/"
        },
        "outputId": "3314518c-f4e2-40b6-b790-e44bf969d57a"
      },
      "outputs": [
        {
          "output_type": "stream",
          "name": "stdout",
          "text": [
            "[[[0.88135962 0.88573554 0.29289763]\n",
            "  [0.05661462 0.90098831 0.28483981]\n",
            "  [0.5790201  0.073981   0.19787996]]\n",
            "\n",
            " [[0.76116267 0.32562065 0.11646281]\n",
            "  [0.95852826 0.24770779 0.5221145 ]\n",
            "  [0.00813861 0.09483706 0.28878154]]\n",
            "\n",
            " [[0.17579016 0.07893044 0.49402955]\n",
            "  [0.89069135 0.87868177 0.16190067]\n",
            "  [0.71177304 0.11945554 0.40886497]]]\n"
          ]
        }
      ],
      "source": [
        "Z = np.random.random((3,3,3))\n",
        "print(Z)"
      ]
    },
    {
      "cell_type": "markdown",
      "id": "466c2989",
      "metadata": {
        "id": "466c2989"
      },
      "source": [
        "#### 13. Create a 10x10 array with random values and find the minimum and maximum values (★☆☆)"
      ]
    },
    {
      "cell_type": "code",
      "execution_count": 40,
      "id": "9a74dbfc",
      "metadata": {
        "id": "9a74dbfc",
        "colab": {
          "base_uri": "https://localhost:8080/"
        },
        "outputId": "8bde2109-8e17-4cb3-ca94-9a347fbf0863"
      },
      "outputs": [
        {
          "output_type": "stream",
          "name": "stdout",
          "text": [
            "0.021261734897924267 0.9955514436750245\n"
          ]
        }
      ],
      "source": [
        "Z = np.random.random((10,10))\n",
        "Zmin, Zmax = Z.min(), Z.max()\n",
        "print(Zmin, Zmax)"
      ]
    },
    {
      "cell_type": "markdown",
      "id": "53a8edb2",
      "metadata": {
        "id": "53a8edb2"
      },
      "source": [
        "#### 14. Create a random vector of size 30 and find the mean value (★☆☆)"
      ]
    },
    {
      "cell_type": "code",
      "execution_count": 41,
      "id": "6691530b",
      "metadata": {
        "id": "6691530b",
        "colab": {
          "base_uri": "https://localhost:8080/"
        },
        "outputId": "7c3b0132-ffd1-4196-f1d2-71768b7c7468"
      },
      "outputs": [
        {
          "output_type": "stream",
          "name": "stdout",
          "text": [
            "0.44321605050388724\n"
          ]
        }
      ],
      "source": [
        "Z = np.random.random(30)\n",
        "m = Z.mean()\n",
        "print(m)"
      ]
    },
    {
      "cell_type": "markdown",
      "id": "cbaad31c",
      "metadata": {
        "id": "cbaad31c"
      },
      "source": [
        "#### 15. Create a 2d array with 1 on the border and 0 inside (★☆☆)"
      ]
    },
    {
      "cell_type": "code",
      "execution_count": 42,
      "id": "ad8308e3",
      "metadata": {
        "id": "ad8308e3",
        "colab": {
          "base_uri": "https://localhost:8080/"
        },
        "outputId": "c40bb36b-03eb-4435-9ad8-129929170243"
      },
      "outputs": [
        {
          "output_type": "stream",
          "name": "stdout",
          "text": [
            "[[1. 1. 1. 1. 1. 1. 1. 1. 1. 1.]\n",
            " [1. 0. 0. 0. 0. 0. 0. 0. 0. 1.]\n",
            " [1. 0. 0. 0. 0. 0. 0. 0. 0. 1.]\n",
            " [1. 0. 0. 0. 0. 0. 0. 0. 0. 1.]\n",
            " [1. 0. 0. 0. 0. 0. 0. 0. 0. 1.]\n",
            " [1. 0. 0. 0. 0. 0. 0. 0. 0. 1.]\n",
            " [1. 0. 0. 0. 0. 0. 0. 0. 0. 1.]\n",
            " [1. 0. 0. 0. 0. 0. 0. 0. 0. 1.]\n",
            " [1. 0. 0. 0. 0. 0. 0. 0. 0. 1.]\n",
            " [1. 1. 1. 1. 1. 1. 1. 1. 1. 1.]]\n"
          ]
        }
      ],
      "source": [
        "Z = np.ones((10,10))\n",
        "Z[1:-1,1:-1] = 0\n",
        "print(Z)"
      ]
    },
    {
      "cell_type": "markdown",
      "id": "c5ecc267",
      "metadata": {
        "id": "c5ecc267"
      },
      "source": [
        "#### 16. How to add a border (filled with 0's) around an existing array? (★☆☆)"
      ]
    },
    {
      "cell_type": "code",
      "execution_count": 43,
      "id": "9d5c78c4",
      "metadata": {
        "id": "9d5c78c4",
        "colab": {
          "base_uri": "https://localhost:8080/"
        },
        "outputId": "fcd4fa15-4a51-49e7-a62c-73988eb85226"
      },
      "outputs": [
        {
          "output_type": "stream",
          "name": "stdout",
          "text": [
            "[[0. 0. 0. 0. 0. 0. 0.]\n",
            " [0. 1. 1. 1. 1. 1. 0.]\n",
            " [0. 1. 1. 1. 1. 1. 0.]\n",
            " [0. 1. 1. 1. 1. 1. 0.]\n",
            " [0. 1. 1. 1. 1. 1. 0.]\n",
            " [0. 1. 1. 1. 1. 1. 0.]\n",
            " [0. 0. 0. 0. 0. 0. 0.]]\n"
          ]
        }
      ],
      "source": [
        "Z = np.ones((5,5))\n",
        "Z = np.pad(Z, pad_width=1, mode='constant', constant_values=0)\n",
        "print(Z)"
      ]
    },
    {
      "cell_type": "code",
      "source": [
        "Z = np.ones((5,5))\n",
        "Z[:, [0, -1]] = 0\n",
        "Z[[0, -1], :] = 0\n",
        "print(Z)"
      ],
      "metadata": {
        "colab": {
          "base_uri": "https://localhost:8080/"
        },
        "id": "rJlv8uNM-ko2",
        "outputId": "e215869d-c217-48a1-8cce-ceee58e18190"
      },
      "id": "rJlv8uNM-ko2",
      "execution_count": 44,
      "outputs": [
        {
          "output_type": "stream",
          "name": "stdout",
          "text": [
            "[[0. 0. 0. 0. 0.]\n",
            " [0. 1. 1. 1. 0.]\n",
            " [0. 1. 1. 1. 0.]\n",
            " [0. 1. 1. 1. 0.]\n",
            " [0. 0. 0. 0. 0.]]\n"
          ]
        }
      ]
    },
    {
      "cell_type": "markdown",
      "id": "ef909b72",
      "metadata": {
        "id": "ef909b72"
      },
      "source": [
        "#### 17. What is the result of the following expression? (★☆☆)\n",
        "```python\n",
        "0 * np.nan\n",
        "np.nan == np.nan\n",
        "np.inf > np.nan\n",
        "np.nan - np.nan\n",
        "np.nan in set([np.nan])\n",
        "0.3 == 3 * 0.1\n",
        "```"
      ]
    },
    {
      "cell_type": "code",
      "execution_count": 45,
      "id": "3b4985f2",
      "metadata": {
        "id": "3b4985f2",
        "colab": {
          "base_uri": "https://localhost:8080/"
        },
        "outputId": "ab025bb2-649b-403b-d057-257d70bfb2b2"
      },
      "outputs": [
        {
          "output_type": "stream",
          "name": "stdout",
          "text": [
            "nan\n",
            "False\n",
            "False\n",
            "nan\n",
            "True\n",
            "False\n"
          ]
        }
      ],
      "source": [
        "print(0 * np.nan)\n",
        "print(np.nan == np.nan)\n",
        "print(np.inf > np.nan)\n",
        "print(np.nan - np.nan)\n",
        "print(np.nan in set([np.nan]))\n",
        "print(0.3 == 3 * 0.1)"
      ]
    },
    {
      "cell_type": "markdown",
      "id": "502738ac",
      "metadata": {
        "id": "502738ac"
      },
      "source": [
        "#### 18. Create a 5x5 matrix with values 1,2,3,4 just below the diagonal (★☆☆)"
      ]
    },
    {
      "cell_type": "code",
      "execution_count": 50,
      "id": "faed6e2b",
      "metadata": {
        "colab": {
          "base_uri": "https://localhost:8080/"
        },
        "id": "faed6e2b",
        "outputId": "68e92238-4ea0-4a2c-8178-a510d4541924"
      },
      "outputs": [
        {
          "output_type": "execute_result",
          "data": {
            "text/plain": [
              "array([[0, 0, 0, 0, 0],\n",
              "       [1, 0, 0, 0, 0],\n",
              "       [0, 2, 0, 0, 0],\n",
              "       [0, 0, 3, 0, 0],\n",
              "       [0, 0, 0, 4, 0]])"
            ]
          },
          "metadata": {},
          "execution_count": 50
        }
      ],
      "source": [
        "np.diag(1+np.arange(4),-1)"
      ]
    },
    {
      "cell_type": "markdown",
      "id": "a65da660",
      "metadata": {
        "id": "a65da660"
      },
      "source": [
        "#### 19. Create a 8x8 matrix and fill it with a checkerboard pattern (★☆☆)"
      ]
    },
    {
      "cell_type": "code",
      "execution_count": 49,
      "id": "ed150400",
      "metadata": {
        "id": "ed150400",
        "colab": {
          "base_uri": "https://localhost:8080/"
        },
        "outputId": "c316b769-b0c7-4d93-e507-45befbe59c6b"
      },
      "outputs": [
        {
          "output_type": "execute_result",
          "data": {
            "text/plain": [
              "array([[0., 1., 0., 1., 0., 1., 0., 1.],\n",
              "       [1., 0., 1., 0., 1., 0., 1., 0.],\n",
              "       [0., 1., 0., 1., 0., 1., 0., 1.],\n",
              "       [1., 0., 1., 0., 1., 0., 1., 0.],\n",
              "       [0., 1., 0., 1., 0., 1., 0., 1.],\n",
              "       [1., 0., 1., 0., 1., 0., 1., 0.],\n",
              "       [0., 1., 0., 1., 0., 1., 0., 1.],\n",
              "       [1., 0., 1., 0., 1., 0., 1., 0.]])"
            ]
          },
          "metadata": {},
          "execution_count": 49
        }
      ],
      "source": [
        "m=(np.zeros(8*8)+1).reshape(8,8)\n",
        "\n",
        "for i in range(8):\n",
        "  if i%2==0:\n",
        "    for j in range(8):\n",
        "      if j%2==0:\n",
        "        m[i][j]-=1\n",
        "  else:\n",
        "    for j in range(8):\n",
        "      if j%2!=0:\n",
        "        m[i][j]-=1\n",
        "\n",
        "m"
      ]
    },
    {
      "cell_type": "code",
      "source": [
        "m=np.zeros((8,8),dtype=int)\n",
        "m[::2,1::2]=1\n",
        "m[1::2,::2]=1\n",
        "\n",
        "m"
      ],
      "metadata": {
        "colab": {
          "base_uri": "https://localhost:8080/"
        },
        "id": "vFEtKcxY60vR",
        "outputId": "aa790bbc-481f-4ae0-8a97-8d1d143e9229"
      },
      "id": "vFEtKcxY60vR",
      "execution_count": 52,
      "outputs": [
        {
          "output_type": "execute_result",
          "data": {
            "text/plain": [
              "array([[0, 1, 0, 1, 0, 1, 0, 1],\n",
              "       [1, 0, 1, 0, 1, 0, 1, 0],\n",
              "       [0, 1, 0, 1, 0, 1, 0, 1],\n",
              "       [1, 0, 1, 0, 1, 0, 1, 0],\n",
              "       [0, 1, 0, 1, 0, 1, 0, 1],\n",
              "       [1, 0, 1, 0, 1, 0, 1, 0],\n",
              "       [0, 1, 0, 1, 0, 1, 0, 1],\n",
              "       [1, 0, 1, 0, 1, 0, 1, 0]])"
            ]
          },
          "metadata": {},
          "execution_count": 52
        }
      ]
    },
    {
      "cell_type": "markdown",
      "id": "9f7f9c49",
      "metadata": {
        "id": "9f7f9c49"
      },
      "source": [
        "#### 20. Consider a (6,7,8) shape array, what is the index (x,y,z) of the 100th element? (★☆☆)"
      ]
    },
    {
      "cell_type": "code",
      "execution_count": 54,
      "id": "3782b5a9",
      "metadata": {
        "id": "3782b5a9",
        "colab": {
          "base_uri": "https://localhost:8080/"
        },
        "outputId": "a68142f6-c910-4789-d6e9-28d6ac70a276"
      },
      "outputs": [
        {
          "output_type": "execute_result",
          "data": {
            "text/plain": [
              "array([[1, 5, 3]])"
            ]
          },
          "metadata": {},
          "execution_count": 54
        }
      ],
      "source": [
        "b=np.zeros(6*7*8)\n",
        "b[99]=1\n",
        "b=b.reshape(6,7,8)\n",
        "\n",
        "np.argwhere(b)"
      ]
    },
    {
      "cell_type": "code",
      "source": [
        "print(np.unravel_index(99,(6,7,8)))"
      ],
      "metadata": {
        "colab": {
          "base_uri": "https://localhost:8080/"
        },
        "id": "y17QT54y9RbR",
        "outputId": "066408f5-d10b-4baf-9875-605e983ec9dc"
      },
      "id": "y17QT54y9RbR",
      "execution_count": 55,
      "outputs": [
        {
          "output_type": "stream",
          "name": "stdout",
          "text": [
            "(1, 5, 3)\n"
          ]
        }
      ]
    },
    {
      "cell_type": "markdown",
      "id": "66bfda35",
      "metadata": {
        "id": "66bfda35"
      },
      "source": [
        "#### 21. Create a checkerboard 8x8 matrix using the tile function (★☆☆)"
      ]
    },
    {
      "cell_type": "code",
      "execution_count": 56,
      "id": "4c07477c",
      "metadata": {
        "id": "4c07477c",
        "colab": {
          "base_uri": "https://localhost:8080/"
        },
        "outputId": "b7ad9135-36de-48ad-d4fb-57c00e4e55ac"
      },
      "outputs": [
        {
          "output_type": "stream",
          "name": "stdout",
          "text": [
            "[[0 1 0 1 0 1 0 1]\n",
            " [1 0 1 0 1 0 1 0]\n",
            " [0 1 0 1 0 1 0 1]\n",
            " [1 0 1 0 1 0 1 0]\n",
            " [0 1 0 1 0 1 0 1]\n",
            " [1 0 1 0 1 0 1 0]\n",
            " [0 1 0 1 0 1 0 1]\n",
            " [1 0 1 0 1 0 1 0]]\n"
          ]
        }
      ],
      "source": [
        "Z = np.tile( np.array([[0,1],[1,0]]), (4,4))\n",
        "print(Z)"
      ]
    },
    {
      "cell_type": "markdown",
      "id": "d5bcfc08",
      "metadata": {
        "id": "d5bcfc08"
      },
      "source": [
        "#### 22. Normalize a 5x5 random matrix (★☆☆)"
      ]
    },
    {
      "cell_type": "code",
      "source": [
        "# Create a 5x5 random matrix\n",
        "m = np.random.rand(5, 5)\n",
        "\n",
        "# Normalize the matrix\n",
        "range_value = m.max() - m.min()\n",
        "normalized_m = (m - m.min()) / range_value\n",
        "\n",
        "normalized_m"
      ],
      "metadata": {
        "colab": {
          "base_uri": "https://localhost:8080/"
        },
        "id": "oCwM9EFM_hqS",
        "outputId": "8bd66a00-fbdb-43e6-d177-ccc9aecfeefe"
      },
      "id": "oCwM9EFM_hqS",
      "execution_count": 103,
      "outputs": [
        {
          "output_type": "execute_result",
          "data": {
            "text/plain": [
              "array([[0.96292338, 0.17587077, 0.55731554, 1.        , 0.42945407],\n",
              "       [0.13370382, 0.10332848, 0.35778947, 0.17925021, 0.14469477],\n",
              "       [0.4865816 , 0.39863777, 0.86634653, 0.53446988, 0.70766215],\n",
              "       [0.75684937, 0.60063818, 0.        , 0.03018227, 0.159462  ],\n",
              "       [0.79127408, 0.54541478, 0.07957616, 0.56279266, 0.09889643]])"
            ]
          },
          "metadata": {},
          "execution_count": 103
        }
      ]
    },
    {
      "cell_type": "code",
      "source": [
        "Z = np.random.random((5,5))\n",
        "Z = (Z - np.mean (Z)) / (np.std (Z))\n",
        "\n",
        "Z"
      ],
      "metadata": {
        "colab": {
          "base_uri": "https://localhost:8080/"
        },
        "id": "Z6Tb-LgyC9vE",
        "outputId": "7d71e53c-4eb8-452e-9a62-c0eed6230fa8"
      },
      "id": "Z6Tb-LgyC9vE",
      "execution_count": 105,
      "outputs": [
        {
          "output_type": "execute_result",
          "data": {
            "text/plain": [
              "array([[-0.43356699, -1.90527749, -1.16698527,  0.3156879 ,  0.96485881],\n",
              "       [ 1.34162506, -1.03770317, -0.81882101, -1.16104791,  1.7575863 ],\n",
              "       [-0.17065925, -0.79240925, -1.03042657,  0.73236234,  1.03305241],\n",
              "       [-1.21347643, -0.27523468, -1.24130284,  1.37313749,  0.86391571],\n",
              "       [ 0.54061363,  0.6639113 ,  0.42410633,  0.41197141,  0.82408217]])"
            ]
          },
          "metadata": {},
          "execution_count": 105
        }
      ]
    },
    {
      "cell_type": "markdown",
      "id": "f9a0911e",
      "metadata": {
        "id": "f9a0911e"
      },
      "source": [
        "#### 23. Create a custom dtype that describes a color as four unsigned bytes (RGBA) (★☆☆)"
      ]
    },
    {
      "cell_type": "code",
      "execution_count": 106,
      "id": "d165044b",
      "metadata": {
        "id": "d165044b"
      },
      "outputs": [],
      "source": [
        "color = np.dtype([(\"r\", np.ubyte),\n",
        "                  (\"g\", np.ubyte),\n",
        "                  (\"b\", np.ubyte),\n",
        "                  (\"a\", np.ubyte)])"
      ]
    },
    {
      "cell_type": "markdown",
      "id": "654805b1",
      "metadata": {
        "id": "654805b1"
      },
      "source": [
        "#### 24. Multiply a 5x3 matrix by a 3x2 matrix (real matrix product) (★☆☆)"
      ]
    },
    {
      "cell_type": "code",
      "execution_count": 115,
      "id": "6a42619f",
      "metadata": {
        "id": "6a42619f",
        "colab": {
          "base_uri": "https://localhost:8080/"
        },
        "outputId": "f9067ba0-0407-40b3-b652-2d2ca930d86b"
      },
      "outputs": [
        {
          "output_type": "execute_result",
          "data": {
            "text/plain": [
              "array([[ 92.72033676,  25.7038719 ],\n",
              "       [ 81.29225465,  37.63076297],\n",
              "       [120.6905803 ,  47.33244074],\n",
              "       [158.98482564,  57.83172604],\n",
              "       [ 92.54925075,  27.73590915]])"
            ]
          },
          "metadata": {},
          "execution_count": 115
        }
      ],
      "source": [
        "a=np.random.rand(5,3)*10\n",
        "b=np.random.rand(3,2)*10\n",
        "\n",
        "#real matrix product\n",
        "np.dot(a,b)"
      ]
    },
    {
      "cell_type": "markdown",
      "id": "994c25df",
      "metadata": {
        "id": "994c25df"
      },
      "source": [
        "#### 25. Given a 1D array, negate all elements which are between 3 and 8, in place. (★☆☆)"
      ]
    },
    {
      "cell_type": "code",
      "execution_count": 151,
      "id": "e4b39c03",
      "metadata": {
        "id": "e4b39c03",
        "colab": {
          "base_uri": "https://localhost:8080/"
        },
        "outputId": "d68cd501-ec3c-483f-c43e-695379d72d4f"
      },
      "outputs": [
        {
          "output_type": "stream",
          "name": "stdout",
          "text": [
            "[ 0  1  2  3 -4 -5 -6 -7  8  9 10]\n"
          ]
        }
      ],
      "source": [
        "a=np.arange(11)\n",
        "k=0\n",
        "\n",
        "while k<8:\n",
        "  if k>3:\n",
        "    a[k]*=-1\n",
        "  k+=1\n",
        "\n",
        "print(a)"
      ]
    },
    {
      "cell_type": "code",
      "source": [
        "Z = np.arange(11)\n",
        "Z[(3 < Z) & (Z < 8)] *= -1\n",
        "print(Z)"
      ],
      "metadata": {
        "colab": {
          "base_uri": "https://localhost:8080/"
        },
        "id": "B4Rbu_x0K7we",
        "outputId": "6d9c6d85-f5b4-4d09-885b-093ca144dcad"
      },
      "id": "B4Rbu_x0K7we",
      "execution_count": 149,
      "outputs": [
        {
          "output_type": "stream",
          "name": "stdout",
          "text": [
            "[ 0  1  2  3 -4 -5 -6 -7  8  9 10]\n"
          ]
        }
      ]
    },
    {
      "cell_type": "markdown",
      "id": "b7d15d1a",
      "metadata": {
        "id": "b7d15d1a"
      },
      "source": [
        "#### 26. What is the output of the following script? (★☆☆)\n",
        "```python\n",
        "# Author: Jake VanderPlas\n",
        "\n",
        "print(sum(range(5),-1))\n",
        "from numpy import *\n",
        "print(sum(range(5),-1))\n",
        "```"
      ]
    },
    {
      "cell_type": "code",
      "execution_count": 153,
      "id": "4c95bc3f",
      "metadata": {
        "id": "4c95bc3f"
      },
      "outputs": [],
      "source": []
    },
    {
      "cell_type": "markdown",
      "id": "a34f0d08",
      "metadata": {
        "id": "a34f0d08"
      },
      "source": [
        "#### 27. Consider an integer vector Z, which of these expressions are legal? (★☆☆)\n",
        "```python\n",
        "Z**Z\n",
        "2 << Z >> 2\n",
        "Z <- Z\n",
        "1j*Z\n",
        "Z/1/1\n",
        "Z<Z>Z\n",
        "```"
      ]
    },
    {
      "cell_type": "code",
      "execution_count": null,
      "id": "564658fc",
      "metadata": {
        "id": "564658fc"
      },
      "outputs": [],
      "source": []
    },
    {
      "cell_type": "markdown",
      "id": "c34e94bf",
      "metadata": {
        "id": "c34e94bf"
      },
      "source": [
        "#### 28. What are the result of the following expressions? (★☆☆)\n",
        "```python\n",
        "np.array(0) / np.array(0)\n",
        "np.array(0) // np.array(0)\n",
        "np.array([np.nan]).astype(int).astype(float)\n",
        "```"
      ]
    },
    {
      "cell_type": "code",
      "execution_count": null,
      "id": "56663562",
      "metadata": {
        "id": "56663562"
      },
      "outputs": [],
      "source": []
    },
    {
      "cell_type": "markdown",
      "id": "546f5e7b",
      "metadata": {
        "id": "546f5e7b"
      },
      "source": [
        "#### 29. How to round away from zero a float array ? (★☆☆)"
      ]
    },
    {
      "cell_type": "code",
      "execution_count": 159,
      "id": "f725a6d2",
      "metadata": {
        "id": "f725a6d2",
        "colab": {
          "base_uri": "https://localhost:8080/"
        },
        "outputId": "d7ed593d-77e2-42c7-c27e-b02722b7c8d2"
      },
      "outputs": [
        {
          "output_type": "stream",
          "name": "stdout",
          "text": [
            "[ 0.  1.  2.  3. -4. -5. -6. -7.  8.  9. 10.]\n"
          ]
        }
      ],
      "source": [
        "a=np.random.uniform(-10,+10,10)\n",
        "print(np.copysign(np.ceil(np.abs(Z)), Z))"
      ]
    },
    {
      "cell_type": "code",
      "source": [
        "print(np.where(Z>0, np.ceil(Z), np.floor(Z)))"
      ],
      "metadata": {
        "colab": {
          "base_uri": "https://localhost:8080/"
        },
        "id": "6OjQzRq3Mj0I",
        "outputId": "83ffb76f-c86f-4c9f-83fb-fa3f05ee64b6"
      },
      "id": "6OjQzRq3Mj0I",
      "execution_count": 160,
      "outputs": [
        {
          "output_type": "stream",
          "name": "stdout",
          "text": [
            "[ 0.  1.  2.  3. -4. -5. -6. -7.  8.  9. 10.]\n"
          ]
        }
      ]
    },
    {
      "cell_type": "markdown",
      "id": "eadca856",
      "metadata": {
        "id": "eadca856"
      },
      "source": [
        "#### 30. How to find common values between two arrays? (★☆☆)"
      ]
    },
    {
      "cell_type": "code",
      "execution_count": null,
      "id": "e0270b5b",
      "metadata": {
        "id": "e0270b5b"
      },
      "outputs": [],
      "source": []
    },
    {
      "cell_type": "markdown",
      "id": "ca16ca22",
      "metadata": {
        "id": "ca16ca22"
      },
      "source": [
        "#### 31. How to ignore all numpy warnings (not recommended)? (★☆☆)"
      ]
    },
    {
      "cell_type": "code",
      "execution_count": null,
      "id": "7d7208ef",
      "metadata": {
        "id": "7d7208ef"
      },
      "outputs": [],
      "source": []
    },
    {
      "cell_type": "markdown",
      "id": "c7871d0d",
      "metadata": {
        "id": "c7871d0d"
      },
      "source": [
        "#### 32. Is the following expressions true? (★☆☆)\n",
        "```python\n",
        "np.sqrt(-1) == np.emath.sqrt(-1)\n",
        "```"
      ]
    },
    {
      "cell_type": "code",
      "execution_count": null,
      "id": "acc3701a",
      "metadata": {
        "id": "acc3701a"
      },
      "outputs": [],
      "source": []
    },
    {
      "cell_type": "markdown",
      "id": "e0433e30",
      "metadata": {
        "id": "e0433e30"
      },
      "source": [
        "#### 33. How to get the dates of yesterday, today and tomorrow? (★☆☆)"
      ]
    },
    {
      "cell_type": "code",
      "execution_count": null,
      "id": "9c4d2152",
      "metadata": {
        "id": "9c4d2152"
      },
      "outputs": [],
      "source": []
    },
    {
      "cell_type": "markdown",
      "id": "9f52a2ef",
      "metadata": {
        "id": "9f52a2ef"
      },
      "source": [
        "#### 34. How to get all the dates corresponding to the month of July 2016? (★★☆)"
      ]
    },
    {
      "cell_type": "code",
      "execution_count": null,
      "id": "d6c34dec",
      "metadata": {
        "id": "d6c34dec"
      },
      "outputs": [],
      "source": []
    },
    {
      "cell_type": "markdown",
      "id": "4a64e059",
      "metadata": {
        "id": "4a64e059"
      },
      "source": [
        "#### 35. How to compute ((A+B)*(-A/2)) in place (without copy)? (★★☆)"
      ]
    },
    {
      "cell_type": "code",
      "execution_count": null,
      "id": "49267f60",
      "metadata": {
        "id": "49267f60"
      },
      "outputs": [],
      "source": []
    },
    {
      "cell_type": "markdown",
      "id": "8a98c2a8",
      "metadata": {
        "id": "8a98c2a8"
      },
      "source": [
        "#### 36. Extract the integer part of a random array of positive numbers using 4 different methods (★★☆)"
      ]
    },
    {
      "cell_type": "code",
      "execution_count": 165,
      "id": "368130b3",
      "metadata": {
        "id": "368130b3",
        "colab": {
          "base_uri": "https://localhost:8080/"
        },
        "outputId": "7129a5ba-4dc4-4dad-c6cd-897147a72daa"
      },
      "outputs": [
        {
          "output_type": "stream",
          "name": "stdout",
          "text": [
            "[7.00609254 3.82670031 8.77078548 2.81352824 7.74435614 4.15582177\n",
            " 5.39240115 2.37380978 3.58045655 2.90098382]\n"
          ]
        }
      ],
      "source": [
        "Z = np.random.uniform(0,10,10)\n",
        "print(Z)"
      ]
    },
    {
      "cell_type": "code",
      "source": [
        "print(Z//1)"
      ],
      "metadata": {
        "colab": {
          "base_uri": "https://localhost:8080/"
        },
        "id": "J4CcIHLBNDHc",
        "outputId": "dfb49b46-4f65-4e04-c3ac-1a0ebf55ebe9"
      },
      "id": "J4CcIHLBNDHc",
      "execution_count": 166,
      "outputs": [
        {
          "output_type": "stream",
          "name": "stdout",
          "text": [
            "[7. 3. 8. 2. 7. 4. 5. 2. 3. 2.]\n"
          ]
        }
      ]
    },
    {
      "cell_type": "code",
      "source": [
        "print(Z-Z%1)"
      ],
      "metadata": {
        "colab": {
          "base_uri": "https://localhost:8080/"
        },
        "id": "rJVSCfUNNGL1",
        "outputId": "f219a966-bb7f-4485-fdac-bc7a1c227b8c"
      },
      "id": "rJVSCfUNNGL1",
      "execution_count": 167,
      "outputs": [
        {
          "output_type": "stream",
          "name": "stdout",
          "text": [
            "[7. 3. 8. 2. 7. 4. 5. 2. 3. 2.]\n"
          ]
        }
      ]
    },
    {
      "cell_type": "code",
      "source": [
        "print(np.floor(Z))"
      ],
      "metadata": {
        "colab": {
          "base_uri": "https://localhost:8080/"
        },
        "id": "9WfLXyhQNLsZ",
        "outputId": "3dad8955-3402-4f60-9afc-5746367790e0"
      },
      "id": "9WfLXyhQNLsZ",
      "execution_count": 168,
      "outputs": [
        {
          "output_type": "stream",
          "name": "stdout",
          "text": [
            "[7. 3. 8. 2. 7. 4. 5. 2. 3. 2.]\n"
          ]
        }
      ]
    },
    {
      "cell_type": "code",
      "source": [
        "print(Z.astype(int))"
      ],
      "metadata": {
        "colab": {
          "base_uri": "https://localhost:8080/"
        },
        "id": "uw_K2OyoNSE0",
        "outputId": "6061a007-21a9-4ad6-cae5-e7eb7c334aff"
      },
      "id": "uw_K2OyoNSE0",
      "execution_count": 169,
      "outputs": [
        {
          "output_type": "stream",
          "name": "stdout",
          "text": [
            "[7 3 8 2 7 4 5 2 3 2]\n"
          ]
        }
      ]
    },
    {
      "cell_type": "code",
      "source": [
        "print(np.trunc(Z))"
      ],
      "metadata": {
        "colab": {
          "base_uri": "https://localhost:8080/"
        },
        "id": "pHampyYFNXlq",
        "outputId": "3767fa23-887b-4ade-9710-f2bea1287cdf"
      },
      "id": "pHampyYFNXlq",
      "execution_count": 171,
      "outputs": [
        {
          "output_type": "stream",
          "name": "stdout",
          "text": [
            "[7. 3. 8. 2. 7. 4. 5. 2. 3. 2.]\n"
          ]
        }
      ]
    },
    {
      "cell_type": "markdown",
      "id": "5a2e3d85",
      "metadata": {
        "id": "5a2e3d85"
      },
      "source": [
        "#### 37. Create a 5x5 matrix with row values ranging from 0 to 4 (★★☆)"
      ]
    },
    {
      "cell_type": "code",
      "execution_count": 188,
      "id": "1d974e8f",
      "metadata": {
        "id": "1d974e8f",
        "colab": {
          "base_uri": "https://localhost:8080/"
        },
        "outputId": "c0ddca6b-83f3-4755-b66a-e2440c363b32"
      },
      "outputs": [
        {
          "output_type": "stream",
          "name": "stdout",
          "text": [
            "[[0. 0. 0. 0. 0.]\n",
            " [1. 1. 1. 1. 1.]\n",
            " [2. 2. 2. 2. 2.]\n",
            " [3. 3. 3. 3. 3.]\n",
            " [4. 4. 4. 4. 4.]]\n"
          ]
        }
      ],
      "source": [
        "M=np.zeros(5*5).reshape(5,5)+np.arange(5).reshape(5,1)\n",
        "print(M)"
      ]
    },
    {
      "cell_type": "markdown",
      "id": "9720e2d5",
      "metadata": {
        "id": "9720e2d5"
      },
      "source": [
        "#### 38. Consider a generator function that generates 10 integers and use it to build an array (★☆☆)"
      ]
    },
    {
      "cell_type": "code",
      "execution_count": null,
      "id": "e5dd8fc9",
      "metadata": {
        "id": "e5dd8fc9"
      },
      "outputs": [],
      "source": []
    },
    {
      "cell_type": "markdown",
      "id": "c6f2c912",
      "metadata": {
        "id": "c6f2c912"
      },
      "source": [
        "#### 39. Create a vector of size 10 with values ranging from 0 to 1, both excluded (★★☆)"
      ]
    },
    {
      "cell_type": "code",
      "execution_count": 196,
      "id": "6aaa27d3",
      "metadata": {
        "id": "6aaa27d3",
        "colab": {
          "base_uri": "https://localhost:8080/"
        },
        "outputId": "13c4ff13-be0e-4cf0-fe80-b05fd3a7e223"
      },
      "outputs": [
        {
          "output_type": "execute_result",
          "data": {
            "text/plain": [
              "array([0.04121855, 0.14955406, 0.28048803, 0.33482355, 0.36192484,\n",
              "       0.40752853, 0.42092135, 0.47785007, 0.67248011, 0.7136956 ])"
            ]
          },
          "metadata": {},
          "execution_count": 196
        }
      ],
      "source": [
        "np.sort(np.random.uniform(0,1,10))"
      ]
    },
    {
      "cell_type": "code",
      "source": [
        "np.linspace(0,1,11,endpoint=False)[1:]"
      ],
      "metadata": {
        "colab": {
          "base_uri": "https://localhost:8080/"
        },
        "id": "midPyiNNPefg",
        "outputId": "c5f6a42e-904a-43b5-bb52-d8bd3001aec5"
      },
      "id": "midPyiNNPefg",
      "execution_count": 199,
      "outputs": [
        {
          "output_type": "execute_result",
          "data": {
            "text/plain": [
              "array([0.09090909, 0.18181818, 0.27272727, 0.36363636, 0.45454545,\n",
              "       0.54545455, 0.63636364, 0.72727273, 0.81818182, 0.90909091])"
            ]
          },
          "metadata": {},
          "execution_count": 199
        }
      ]
    },
    {
      "cell_type": "markdown",
      "id": "a36d6ee4",
      "metadata": {
        "id": "a36d6ee4"
      },
      "source": [
        "#### 40. Create a random vector of size 10 and sort it (★★☆)"
      ]
    },
    {
      "cell_type": "code",
      "execution_count": 200,
      "id": "e589d216",
      "metadata": {
        "id": "e589d216",
        "colab": {
          "base_uri": "https://localhost:8080/"
        },
        "outputId": "62fd4001-2dd4-4088-f601-6b9b32360a55"
      },
      "outputs": [
        {
          "output_type": "execute_result",
          "data": {
            "text/plain": [
              "array([0.0916283 , 0.09759442, 0.12711716, 0.29955024, 0.32303073,\n",
              "       0.60784156, 0.64514965, 0.66997991, 0.73567267, 0.74268033])"
            ]
          },
          "metadata": {},
          "execution_count": 200
        }
      ],
      "source": [
        "np.sort(np.random.rand(10))"
      ]
    },
    {
      "cell_type": "markdown",
      "id": "0fb4ad68",
      "metadata": {
        "id": "0fb4ad68"
      },
      "source": [
        "#### 41. How to sum a small array faster than np.sum? (★★☆)"
      ]
    },
    {
      "cell_type": "code",
      "execution_count": null,
      "id": "a1ba05a0",
      "metadata": {
        "id": "a1ba05a0"
      },
      "outputs": [],
      "source": []
    },
    {
      "cell_type": "markdown",
      "id": "024ac365",
      "metadata": {
        "id": "024ac365"
      },
      "source": [
        "#### 42. Consider two random array A and B, check if they are equal (★★☆)"
      ]
    },
    {
      "cell_type": "code",
      "execution_count": 201,
      "id": "7db3846d",
      "metadata": {
        "id": "7db3846d",
        "colab": {
          "base_uri": "https://localhost:8080/"
        },
        "outputId": "b2c6f9a0-0a21-4861-e054-ff72840b944f"
      },
      "outputs": [
        {
          "output_type": "stream",
          "name": "stdout",
          "text": [
            "False\n",
            "False\n"
          ]
        }
      ],
      "source": [
        "A = np.random.randint(0,2,5)\n",
        "B = np.random.randint(0,2,5)\n",
        "\n",
        "# Assuming identical shape of the arrays and a tolerance for the comparison of values\n",
        "equal = np.allclose(A,B)\n",
        "print(equal)\n",
        "\n",
        "# Checking both the shape and the element values, no tolerance (values have to be exactly equal)\n",
        "equal = np.array_equal(A,B)\n",
        "print(equal)"
      ]
    },
    {
      "cell_type": "markdown",
      "id": "c68d2401",
      "metadata": {
        "id": "c68d2401"
      },
      "source": [
        "#### 43. Make an array immutable (read-only) (★★☆)"
      ]
    },
    {
      "cell_type": "code",
      "execution_count": null,
      "id": "7828539d",
      "metadata": {
        "id": "7828539d"
      },
      "outputs": [],
      "source": []
    },
    {
      "cell_type": "markdown",
      "id": "55df6280",
      "metadata": {
        "id": "55df6280"
      },
      "source": [
        "#### 44. Consider a random 10x2 matrix representing cartesian coordinates, convert them to polar coordinates (★★☆)"
      ]
    },
    {
      "cell_type": "code",
      "execution_count": null,
      "id": "f1c86ea0",
      "metadata": {
        "id": "f1c86ea0"
      },
      "outputs": [],
      "source": []
    },
    {
      "cell_type": "markdown",
      "id": "2f60f1ec",
      "metadata": {
        "id": "2f60f1ec"
      },
      "source": [
        "#### 45. Create random vector of size 10 and replace the maximum value by 0 (★★☆)"
      ]
    },
    {
      "cell_type": "code",
      "execution_count": 213,
      "id": "d9f48f1c",
      "metadata": {
        "id": "d9f48f1c",
        "colab": {
          "base_uri": "https://localhost:8080/"
        },
        "outputId": "d07bd485-2c82-403b-82f0-85251ededee5"
      },
      "outputs": [
        {
          "output_type": "stream",
          "name": "stdout",
          "text": [
            "[0.52082209 0.51527644 0.76852966 0.28771585 0.99385494 0.89094608\n",
            " 0.46903892 0.38844718 0.58369345 0.28771313]\n",
            "[0.28771313 0.28771585 0.38844718 0.46903892 0.51527644 0.52082209\n",
            " 0.58369345 0.76852966 0.89094608 0.        ]\n",
            "[0.52082209 0.51527644 0.76852966 0.28771585 0.         0.89094608\n",
            " 0.46903892 0.38844718 0.58369345 0.28771313]\n"
          ]
        }
      ],
      "source": [
        "v=np.random.rand(10)\n",
        "print(v)\n",
        "\n",
        "v1=np.sort(v)\n",
        "v1[-1]=0\n",
        "print(v1)\n",
        "\n",
        "v[v.argmax()]=0\n",
        "print(v)"
      ]
    },
    {
      "cell_type": "markdown",
      "id": "084e8ad4",
      "metadata": {
        "id": "084e8ad4"
      },
      "source": [
        "#### 46. Create a structured array with `x` and `y` coordinates covering the [0,1]x[0,1] area (★★☆)"
      ]
    },
    {
      "cell_type": "code",
      "execution_count": null,
      "id": "58b47c13",
      "metadata": {
        "id": "58b47c13"
      },
      "outputs": [],
      "source": []
    },
    {
      "cell_type": "markdown",
      "id": "d7b9bc42",
      "metadata": {
        "id": "d7b9bc42"
      },
      "source": [
        "#### 47. Given two arrays, X and Y, construct the Cauchy matrix C (Cij =1/(xi - yj)) (★★☆)"
      ]
    },
    {
      "cell_type": "code",
      "execution_count": null,
      "id": "a24824fb",
      "metadata": {
        "id": "a24824fb"
      },
      "outputs": [],
      "source": []
    },
    {
      "cell_type": "markdown",
      "id": "65ebc11b",
      "metadata": {
        "id": "65ebc11b"
      },
      "source": [
        "#### 48. Print the minimum and maximum representable value for each numpy scalar type (★★☆)"
      ]
    },
    {
      "cell_type": "code",
      "execution_count": null,
      "id": "e45d38fb",
      "metadata": {
        "id": "e45d38fb"
      },
      "outputs": [],
      "source": []
    },
    {
      "cell_type": "markdown",
      "id": "9b317a98",
      "metadata": {
        "id": "9b317a98"
      },
      "source": [
        "#### 49. How to print all the values of an array? (★★☆)"
      ]
    },
    {
      "cell_type": "code",
      "execution_count": null,
      "id": "309cdeb9",
      "metadata": {
        "id": "309cdeb9"
      },
      "outputs": [],
      "source": []
    },
    {
      "cell_type": "markdown",
      "id": "b580f9d0",
      "metadata": {
        "id": "b580f9d0"
      },
      "source": [
        "#### 50. How to find the closest value (to a given scalar) in a vector? (★★☆)"
      ]
    },
    {
      "cell_type": "code",
      "execution_count": null,
      "id": "ebfb6714",
      "metadata": {
        "id": "ebfb6714"
      },
      "outputs": [],
      "source": []
    },
    {
      "cell_type": "markdown",
      "id": "602e6252",
      "metadata": {
        "id": "602e6252"
      },
      "source": [
        "#### 51. Create a structured array representing a position (x,y) and a color (r,g,b) (★★☆)"
      ]
    },
    {
      "cell_type": "code",
      "execution_count": null,
      "id": "cf002b3a",
      "metadata": {
        "id": "cf002b3a"
      },
      "outputs": [],
      "source": []
    },
    {
      "cell_type": "markdown",
      "id": "78bcd92f",
      "metadata": {
        "id": "78bcd92f"
      },
      "source": [
        "#### 52. Consider a random vector with shape (100,2) representing coordinates, find point by point distances (★★☆)"
      ]
    },
    {
      "cell_type": "code",
      "execution_count": null,
      "id": "fea7f9a6",
      "metadata": {
        "id": "fea7f9a6"
      },
      "outputs": [],
      "source": []
    },
    {
      "cell_type": "markdown",
      "id": "343c5a85",
      "metadata": {
        "id": "343c5a85"
      },
      "source": [
        "#### 53. How to convert a float (32 bits) array into an integer (32 bits) in place?"
      ]
    },
    {
      "cell_type": "code",
      "execution_count": null,
      "id": "fc1b687b",
      "metadata": {
        "id": "fc1b687b"
      },
      "outputs": [],
      "source": []
    },
    {
      "cell_type": "markdown",
      "id": "a69e1ace",
      "metadata": {
        "id": "a69e1ace"
      },
      "source": [
        "#### 54. How to read the following file? (★★☆)\n",
        "```\n",
        "1, 2, 3, 4, 5\n",
        "6,  ,  , 7, 8\n",
        " ,  , 9,10,11\n",
        "```"
      ]
    },
    {
      "cell_type": "code",
      "execution_count": null,
      "id": "1c7957d4",
      "metadata": {
        "id": "1c7957d4"
      },
      "outputs": [],
      "source": []
    },
    {
      "cell_type": "markdown",
      "id": "c23bd80d",
      "metadata": {
        "id": "c23bd80d"
      },
      "source": [
        "#### 55. What is the equivalent of enumerate for numpy arrays? (★★☆)"
      ]
    },
    {
      "cell_type": "code",
      "execution_count": null,
      "id": "d95d9578",
      "metadata": {
        "id": "d95d9578"
      },
      "outputs": [],
      "source": []
    },
    {
      "cell_type": "markdown",
      "id": "2153a5ec",
      "metadata": {
        "id": "2153a5ec"
      },
      "source": [
        "#### 56. Generate a generic 2D Gaussian-like array (★★☆)"
      ]
    },
    {
      "cell_type": "code",
      "execution_count": null,
      "id": "61122d1e",
      "metadata": {
        "id": "61122d1e"
      },
      "outputs": [],
      "source": []
    },
    {
      "cell_type": "markdown",
      "id": "2e76d589",
      "metadata": {
        "id": "2e76d589"
      },
      "source": [
        "#### 57. How to randomly place p elements in a 2D array? (★★☆)"
      ]
    },
    {
      "cell_type": "code",
      "execution_count": null,
      "id": "0c2e4fcc",
      "metadata": {
        "id": "0c2e4fcc"
      },
      "outputs": [],
      "source": []
    },
    {
      "cell_type": "markdown",
      "id": "8b3933eb",
      "metadata": {
        "id": "8b3933eb"
      },
      "source": [
        "#### 58. Subtract the mean of each row of a matrix (★★☆)"
      ]
    },
    {
      "cell_type": "code",
      "execution_count": null,
      "id": "a306c9ef",
      "metadata": {
        "id": "a306c9ef"
      },
      "outputs": [],
      "source": []
    },
    {
      "cell_type": "markdown",
      "id": "ea8807c0",
      "metadata": {
        "id": "ea8807c0"
      },
      "source": [
        "#### 59. How to sort an array by the nth column? (★★☆)"
      ]
    },
    {
      "cell_type": "code",
      "execution_count": null,
      "id": "cc89a699",
      "metadata": {
        "id": "cc89a699"
      },
      "outputs": [],
      "source": []
    },
    {
      "cell_type": "markdown",
      "id": "00fa00a1",
      "metadata": {
        "id": "00fa00a1"
      },
      "source": [
        "#### 60. How to tell if a given 2D array has null columns? (★★☆)"
      ]
    },
    {
      "cell_type": "code",
      "execution_count": null,
      "id": "3436e165",
      "metadata": {
        "id": "3436e165"
      },
      "outputs": [],
      "source": []
    },
    {
      "cell_type": "markdown",
      "id": "5a65c7a2",
      "metadata": {
        "id": "5a65c7a2"
      },
      "source": [
        "#### 61. Find the nearest value from a given value in an array (★★☆)"
      ]
    },
    {
      "cell_type": "code",
      "execution_count": null,
      "id": "73f149d6",
      "metadata": {
        "id": "73f149d6"
      },
      "outputs": [],
      "source": []
    },
    {
      "cell_type": "markdown",
      "id": "dd83e8af",
      "metadata": {
        "id": "dd83e8af"
      },
      "source": [
        "#### 62. Considering two arrays with shape (1,3) and (3,1), how to compute their sum using an iterator? (★★☆)"
      ]
    },
    {
      "cell_type": "code",
      "execution_count": null,
      "id": "29a709a1",
      "metadata": {
        "id": "29a709a1"
      },
      "outputs": [],
      "source": []
    },
    {
      "cell_type": "markdown",
      "id": "6c042efa",
      "metadata": {
        "id": "6c042efa"
      },
      "source": [
        "#### 63. Create an array class that has a name attribute (★★☆)"
      ]
    },
    {
      "cell_type": "code",
      "execution_count": null,
      "id": "45b3d2e0",
      "metadata": {
        "id": "45b3d2e0"
      },
      "outputs": [],
      "source": []
    },
    {
      "cell_type": "markdown",
      "id": "0a075c3d",
      "metadata": {
        "id": "0a075c3d"
      },
      "source": [
        "#### 64. Consider a given vector, how to add 1 to each element indexed by a second vector (be careful with repeated indices)? (★★★)"
      ]
    },
    {
      "cell_type": "code",
      "execution_count": null,
      "id": "36c50470",
      "metadata": {
        "id": "36c50470"
      },
      "outputs": [],
      "source": []
    },
    {
      "cell_type": "markdown",
      "id": "0fb2f0c5",
      "metadata": {
        "id": "0fb2f0c5"
      },
      "source": [
        "#### 65. How to accumulate elements of a vector (X) to an array (F) based on an index list (I)? (★★★)"
      ]
    },
    {
      "cell_type": "code",
      "execution_count": null,
      "id": "58aa5f82",
      "metadata": {
        "id": "58aa5f82"
      },
      "outputs": [],
      "source": []
    },
    {
      "cell_type": "markdown",
      "id": "d89dc506",
      "metadata": {
        "id": "d89dc506"
      },
      "source": [
        "#### 66. Considering a (w,h,3) image of (dtype=ubyte), compute the number of unique colors (★★☆)"
      ]
    },
    {
      "cell_type": "code",
      "execution_count": null,
      "id": "8fb43a49",
      "metadata": {
        "id": "8fb43a49"
      },
      "outputs": [],
      "source": []
    },
    {
      "cell_type": "markdown",
      "id": "535a5d81",
      "metadata": {
        "id": "535a5d81"
      },
      "source": [
        "#### 67. Considering a four dimensions array, how to get sum over the last two axis at once? (★★★)"
      ]
    },
    {
      "cell_type": "code",
      "execution_count": null,
      "id": "f954ab9d",
      "metadata": {
        "id": "f954ab9d"
      },
      "outputs": [],
      "source": []
    },
    {
      "cell_type": "markdown",
      "id": "eee66d3c",
      "metadata": {
        "id": "eee66d3c"
      },
      "source": [
        "#### 68. Considering a one-dimensional vector D, how to compute means of subsets of D using a vector S of same size describing subset  indices? (★★★)"
      ]
    },
    {
      "cell_type": "code",
      "execution_count": null,
      "id": "8929773a",
      "metadata": {
        "id": "8929773a"
      },
      "outputs": [],
      "source": []
    },
    {
      "cell_type": "markdown",
      "id": "f90d4c40",
      "metadata": {
        "id": "f90d4c40"
      },
      "source": [
        "#### 69. How to get the diagonal of a dot product? (★★★)"
      ]
    },
    {
      "cell_type": "code",
      "execution_count": null,
      "id": "b47d392d",
      "metadata": {
        "id": "b47d392d"
      },
      "outputs": [],
      "source": []
    },
    {
      "cell_type": "markdown",
      "id": "a8a97e7d",
      "metadata": {
        "id": "a8a97e7d"
      },
      "source": [
        "#### 70. Consider the vector [1, 2, 3, 4, 5], how to build a new vector with 3 consecutive zeros interleaved between each value? (★★★)"
      ]
    },
    {
      "cell_type": "code",
      "execution_count": null,
      "id": "ee6c6c37",
      "metadata": {
        "id": "ee6c6c37"
      },
      "outputs": [],
      "source": []
    },
    {
      "cell_type": "markdown",
      "id": "d6a30d60",
      "metadata": {
        "id": "d6a30d60"
      },
      "source": [
        "#### 71. Consider an array of dimension (5,5,3), how to mulitply it by an array with dimensions (5,5)? (★★★)"
      ]
    },
    {
      "cell_type": "code",
      "execution_count": null,
      "id": "e9703f2e",
      "metadata": {
        "id": "e9703f2e"
      },
      "outputs": [],
      "source": []
    },
    {
      "cell_type": "markdown",
      "id": "bac359a9",
      "metadata": {
        "id": "bac359a9"
      },
      "source": [
        "#### 72. How to swap two rows of an array? (★★★)"
      ]
    },
    {
      "cell_type": "code",
      "execution_count": null,
      "id": "f1b432b1",
      "metadata": {
        "id": "f1b432b1"
      },
      "outputs": [],
      "source": []
    },
    {
      "cell_type": "markdown",
      "id": "620c9f83",
      "metadata": {
        "id": "620c9f83"
      },
      "source": [
        "#### 73. Consider a set of 10 triplets describing 10 triangles (with shared vertices), find the set of unique line segments composing all the  triangles (★★★)"
      ]
    },
    {
      "cell_type": "code",
      "execution_count": null,
      "id": "4e595ffc",
      "metadata": {
        "id": "4e595ffc"
      },
      "outputs": [],
      "source": []
    },
    {
      "cell_type": "markdown",
      "id": "a76c55a2",
      "metadata": {
        "id": "a76c55a2"
      },
      "source": [
        "#### 74. Given a sorted array C that corresponds to a bincount, how to produce an array A such that np.bincount(A) == C? (★★★)"
      ]
    },
    {
      "cell_type": "code",
      "execution_count": null,
      "id": "2d2ae65a",
      "metadata": {
        "id": "2d2ae65a"
      },
      "outputs": [],
      "source": []
    },
    {
      "cell_type": "markdown",
      "id": "d550c8e2",
      "metadata": {
        "id": "d550c8e2"
      },
      "source": [
        "#### 75. How to compute averages using a sliding window over an array? (★★★)"
      ]
    },
    {
      "cell_type": "code",
      "execution_count": null,
      "id": "841c457c",
      "metadata": {
        "id": "841c457c"
      },
      "outputs": [],
      "source": []
    },
    {
      "cell_type": "markdown",
      "id": "6b170b00",
      "metadata": {
        "id": "6b170b00"
      },
      "source": [
        "#### 76. Consider a one-dimensional array Z, build a two-dimensional array whose first row is (Z[0],Z[1],Z[2]) and each subsequent row is  shifted by 1 (last row should be (Z[-3],Z[-2],Z[-1]) (★★★)"
      ]
    },
    {
      "cell_type": "code",
      "execution_count": null,
      "id": "d9a0cf4e",
      "metadata": {
        "id": "d9a0cf4e"
      },
      "outputs": [],
      "source": []
    },
    {
      "cell_type": "markdown",
      "id": "e94a5c1d",
      "metadata": {
        "id": "e94a5c1d"
      },
      "source": [
        "#### 77. How to negate a boolean, or to change the sign of a float inplace? (★★★)"
      ]
    },
    {
      "cell_type": "code",
      "execution_count": null,
      "id": "c0f9504f",
      "metadata": {
        "id": "c0f9504f"
      },
      "outputs": [],
      "source": []
    },
    {
      "cell_type": "markdown",
      "id": "4eb8b5c1",
      "metadata": {
        "id": "4eb8b5c1"
      },
      "source": [
        "#### 78. Consider 2 sets of points P0,P1 describing lines (2d) and a point p, how to compute distance from p to each line i (P0[i],P1[i])? (★★★)"
      ]
    },
    {
      "cell_type": "code",
      "execution_count": null,
      "id": "487f47ec",
      "metadata": {
        "id": "487f47ec"
      },
      "outputs": [],
      "source": []
    },
    {
      "cell_type": "markdown",
      "id": "3df99948",
      "metadata": {
        "id": "3df99948"
      },
      "source": [
        "#### 79. Consider 2 sets of points P0,P1 describing lines (2d) and a set of points P, how to compute distance from each point j (P[j]) to each line i (P0[i],P1[i])? (★★★)"
      ]
    },
    {
      "cell_type": "code",
      "execution_count": null,
      "id": "dc2df37b",
      "metadata": {
        "id": "dc2df37b"
      },
      "outputs": [],
      "source": []
    },
    {
      "cell_type": "markdown",
      "id": "11e972c2",
      "metadata": {
        "id": "11e972c2"
      },
      "source": [
        "#### 80. Consider an arbitrary array, write a function that extract a subpart with a fixed shape and centered on a given element (pad with a `fill` value when necessary) (★★★)"
      ]
    },
    {
      "cell_type": "code",
      "execution_count": null,
      "id": "0291247f",
      "metadata": {
        "id": "0291247f"
      },
      "outputs": [],
      "source": []
    },
    {
      "cell_type": "markdown",
      "id": "93cfeab3",
      "metadata": {
        "id": "93cfeab3"
      },
      "source": [
        "#### 81. Consider an array Z = [1,2,3,4,5,6,7,8,9,10,11,12,13,14], how to generate an array R = [[1,2,3,4], [2,3,4,5], [3,4,5,6], ..., [11,12,13,14]]? (★★★)"
      ]
    },
    {
      "cell_type": "code",
      "execution_count": null,
      "id": "360de791",
      "metadata": {
        "id": "360de791"
      },
      "outputs": [],
      "source": []
    },
    {
      "cell_type": "markdown",
      "id": "4c15ceff",
      "metadata": {
        "id": "4c15ceff"
      },
      "source": [
        "#### 82. Compute a matrix rank (★★★)"
      ]
    },
    {
      "cell_type": "code",
      "execution_count": null,
      "id": "9a4272d2",
      "metadata": {
        "id": "9a4272d2"
      },
      "outputs": [],
      "source": []
    },
    {
      "cell_type": "markdown",
      "id": "1171cb84",
      "metadata": {
        "id": "1171cb84"
      },
      "source": [
        "#### 83. How to find the most frequent value in an array?"
      ]
    },
    {
      "cell_type": "code",
      "execution_count": null,
      "id": "33e951c8",
      "metadata": {
        "id": "33e951c8"
      },
      "outputs": [],
      "source": []
    },
    {
      "cell_type": "markdown",
      "id": "04f472aa",
      "metadata": {
        "id": "04f472aa"
      },
      "source": [
        "#### 84. Extract all the contiguous 3x3 blocks from a random 10x10 matrix (★★★)"
      ]
    },
    {
      "cell_type": "code",
      "execution_count": null,
      "id": "7aade14a",
      "metadata": {
        "id": "7aade14a"
      },
      "outputs": [],
      "source": []
    },
    {
      "cell_type": "markdown",
      "id": "52836346",
      "metadata": {
        "id": "52836346"
      },
      "source": [
        "#### 85. Create a 2D array subclass such that Z[i,j] == Z[j,i] (★★★)"
      ]
    },
    {
      "cell_type": "code",
      "execution_count": null,
      "id": "4df70318",
      "metadata": {
        "id": "4df70318"
      },
      "outputs": [],
      "source": []
    },
    {
      "cell_type": "markdown",
      "id": "78c43ee5",
      "metadata": {
        "id": "78c43ee5"
      },
      "source": [
        "#### 86. Consider a set of p matrices with shape (n,n) and a set of p vectors with shape (n,1). How to compute the sum of of the p matrix products at once? (result has shape (n,1)) (★★★)"
      ]
    },
    {
      "cell_type": "code",
      "execution_count": null,
      "id": "32fd2c3b",
      "metadata": {
        "id": "32fd2c3b"
      },
      "outputs": [],
      "source": []
    },
    {
      "cell_type": "markdown",
      "id": "158f9945",
      "metadata": {
        "id": "158f9945"
      },
      "source": [
        "#### 87. Consider a 16x16 array, how to get the block-sum (block size is 4x4)? (★★★)"
      ]
    },
    {
      "cell_type": "code",
      "execution_count": null,
      "id": "5a9b808f",
      "metadata": {
        "id": "5a9b808f"
      },
      "outputs": [],
      "source": []
    },
    {
      "cell_type": "markdown",
      "id": "2e0ad860",
      "metadata": {
        "id": "2e0ad860"
      },
      "source": [
        "#### 88. How to implement the Game of Life using numpy arrays? (★★★)"
      ]
    },
    {
      "cell_type": "code",
      "execution_count": null,
      "id": "574acff5",
      "metadata": {
        "id": "574acff5"
      },
      "outputs": [],
      "source": []
    },
    {
      "cell_type": "markdown",
      "id": "69a892fa",
      "metadata": {
        "id": "69a892fa"
      },
      "source": [
        "#### 89. How to get the n largest values of an array (★★★)"
      ]
    },
    {
      "cell_type": "code",
      "execution_count": null,
      "id": "21b2bd48",
      "metadata": {
        "id": "21b2bd48"
      },
      "outputs": [],
      "source": []
    },
    {
      "cell_type": "markdown",
      "id": "b55ccacc",
      "metadata": {
        "id": "b55ccacc"
      },
      "source": [
        "#### 90. Given an arbitrary number of vectors, build the cartesian product (every combinations of every item) (★★★)"
      ]
    },
    {
      "cell_type": "code",
      "execution_count": null,
      "id": "4b645da4",
      "metadata": {
        "id": "4b645da4"
      },
      "outputs": [],
      "source": []
    },
    {
      "cell_type": "markdown",
      "id": "89187a23",
      "metadata": {
        "id": "89187a23"
      },
      "source": [
        "#### 91. How to create a record array from a regular array? (★★★)"
      ]
    },
    {
      "cell_type": "code",
      "execution_count": null,
      "id": "da94c71a",
      "metadata": {
        "id": "da94c71a"
      },
      "outputs": [],
      "source": []
    },
    {
      "cell_type": "markdown",
      "id": "aa70d4ca",
      "metadata": {
        "id": "aa70d4ca"
      },
      "source": [
        "#### 92. Consider a large vector Z, compute Z to the power of 3 using 3 different methods (★★★)"
      ]
    },
    {
      "cell_type": "code",
      "execution_count": null,
      "id": "7cff1bf5",
      "metadata": {
        "id": "7cff1bf5"
      },
      "outputs": [],
      "source": []
    },
    {
      "cell_type": "markdown",
      "id": "5f79dd00",
      "metadata": {
        "id": "5f79dd00"
      },
      "source": [
        "#### 93. Consider two arrays A and B of shape (8,3) and (2,2). How to find rows of A that contain elements of each row of B regardless of the order of the elements in B? (★★★)"
      ]
    },
    {
      "cell_type": "code",
      "execution_count": null,
      "id": "20c105b2",
      "metadata": {
        "id": "20c105b2"
      },
      "outputs": [],
      "source": []
    },
    {
      "cell_type": "markdown",
      "id": "a80570cd",
      "metadata": {
        "id": "a80570cd"
      },
      "source": [
        "#### 94. Considering a 10x3 matrix, extract rows with unequal values (e.g. [2,2,3]) (★★★)"
      ]
    },
    {
      "cell_type": "code",
      "execution_count": null,
      "id": "84db8de1",
      "metadata": {
        "id": "84db8de1"
      },
      "outputs": [],
      "source": []
    },
    {
      "cell_type": "markdown",
      "id": "ba154f43",
      "metadata": {
        "id": "ba154f43"
      },
      "source": [
        "#### 95. Convert a vector of ints into a matrix binary representation (★★★)"
      ]
    },
    {
      "cell_type": "code",
      "execution_count": null,
      "id": "cfa96e1b",
      "metadata": {
        "id": "cfa96e1b"
      },
      "outputs": [],
      "source": []
    },
    {
      "cell_type": "markdown",
      "id": "420e2343",
      "metadata": {
        "id": "420e2343"
      },
      "source": [
        "#### 96. Given a two dimensional array, how to extract unique rows? (★★★)"
      ]
    },
    {
      "cell_type": "code",
      "execution_count": null,
      "id": "4680dfd0",
      "metadata": {
        "id": "4680dfd0"
      },
      "outputs": [],
      "source": []
    },
    {
      "cell_type": "markdown",
      "id": "89fef2f3",
      "metadata": {
        "id": "89fef2f3"
      },
      "source": [
        "#### 97. Considering 2 vectors A & B, write the einsum equivalent of inner, outer, sum, and mul function (★★★)"
      ]
    },
    {
      "cell_type": "code",
      "execution_count": null,
      "id": "bb9c14b2",
      "metadata": {
        "id": "bb9c14b2"
      },
      "outputs": [],
      "source": []
    },
    {
      "cell_type": "markdown",
      "id": "7ad5cc5f",
      "metadata": {
        "id": "7ad5cc5f"
      },
      "source": [
        "#### 98. Considering a path described by two vectors (X,Y), how to sample it using equidistant samples (★★★)?"
      ]
    },
    {
      "cell_type": "code",
      "execution_count": null,
      "id": "0899d1d5",
      "metadata": {
        "id": "0899d1d5"
      },
      "outputs": [],
      "source": []
    },
    {
      "cell_type": "markdown",
      "id": "2b69272e",
      "metadata": {
        "id": "2b69272e"
      },
      "source": [
        "#### 99. Given an integer n and a 2D array X, select from X the rows which can be interpreted as draws from a multinomial distribution with n degrees, i.e., the rows which only contain integers and which sum to n. (★★★)"
      ]
    },
    {
      "cell_type": "code",
      "execution_count": null,
      "id": "55c8b034",
      "metadata": {
        "id": "55c8b034"
      },
      "outputs": [],
      "source": []
    },
    {
      "cell_type": "markdown",
      "id": "59ab5516",
      "metadata": {
        "id": "59ab5516"
      },
      "source": [
        "#### 100. Compute bootstrapped 95% confidence intervals for the mean of a 1D array X (i.e., resample the elements of an array with replacement N times, compute the mean of each sample, and then compute percentiles over the means). (★★★)"
      ]
    },
    {
      "cell_type": "code",
      "execution_count": null,
      "id": "450877d8",
      "metadata": {
        "id": "450877d8"
      },
      "outputs": [],
      "source": []
    }
  ],
  "metadata": {
    "colab": {
      "provenance": [],
      "include_colab_link": true
    },
    "language_info": {
      "name": "python"
    },
    "kernelspec": {
      "name": "python3",
      "display_name": "Python 3"
    }
  },
  "nbformat": 4,
  "nbformat_minor": 5
}
