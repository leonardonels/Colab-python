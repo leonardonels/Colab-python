{
  "nbformat": 4,
  "nbformat_minor": 0,
  "metadata": {
    "kernelspec": {
      "display_name": "Python 3",
      "language": "python",
      "name": "python3"
    },
    "language_info": {
      "codemirror_mode": {
        "name": "ipython",
        "version": 3
      },
      "file_extension": ".py",
      "mimetype": "text/x-python",
      "name": "python",
      "nbconvert_exporter": "python",
      "pygments_lexer": "ipython3",
      "version": "3.6.8"
    },
    "colab": {
      "provenance": [],
      "include_colab_link": true
    }
  },
  "cells": [
    {
      "cell_type": "markdown",
      "metadata": {
        "id": "view-in-github",
        "colab_type": "text"
      },
      "source": [
        "<a href=\"https://colab.research.google.com/github/leonardonels/Colab-python/blob/main/2a_Numpy.ipynb\" target=\"_parent\"><img src=\"https://colab.research.google.com/assets/colab-badge.svg\" alt=\"Open In Colab\"/></a>"
      ]
    },
    {
      "cell_type": "markdown",
      "metadata": {
        "id": "9WB297Ey5ssg"
      },
      "source": [
        "# Numpy\n",
        "\n",
        "NumPy (short for Numerical Python) provides an efficient interface to store and operate on dense data buffers."
      ]
    },
    {
      "cell_type": "code",
      "metadata": {
        "id": "aGsKAdyW5ssh"
      },
      "source": [
        "import numpy as np"
      ],
      "execution_count": null,
      "outputs": []
    },
    {
      "cell_type": "markdown",
      "metadata": {
        "id": "317ESUmI5ssk"
      },
      "source": [
        "# The NumPy ndarray: A Multidimensional Array Object\n",
        "- N-dimensional array object, or ndarray, which is a fast, flexible container for large data sets\n",
        "- Arrays enable you to perform mathematical operations on whole blocks of data using similar syntax\n",
        "- An ndarray is a generic multidimensional container for homogeneous data\n",
        "  - all of the elements must be the **same type**,\n",
        "  - **shape**, a tuple indicating the size of each dimension,\n",
        "  - **dtype**, an object describing the data type of the array."
      ]
    },
    {
      "cell_type": "markdown",
      "metadata": {
        "id": "lmwxZVo95ssl"
      },
      "source": [
        "## Creating ndarrays\n",
        "- the ***array*** function accepts any sequence-like object (including other arrays) and produces a new NumPy array containing the passed data\n"
      ]
    },
    {
      "cell_type": "code",
      "metadata": {
        "id": "NY1Sbutt5ssl"
      },
      "source": [
        "data1 = [1, 3, 5, 7, 9, 11]"
      ],
      "execution_count": null,
      "outputs": []
    },
    {
      "cell_type": "code",
      "metadata": {
        "id": "Nk9EKe-EzyuK"
      },
      "source": [
        "data1"
      ],
      "execution_count": null,
      "outputs": []
    },
    {
      "cell_type": "code",
      "metadata": {
        "id": "bLJafGj45sso"
      },
      "source": [
        "arr1 = np.array(data1)"
      ],
      "execution_count": null,
      "outputs": []
    },
    {
      "cell_type": "code",
      "metadata": {
        "id": "2ZYe4TEH5ssr"
      },
      "source": [
        "arr1"
      ],
      "execution_count": null,
      "outputs": []
    },
    {
      "cell_type": "code",
      "metadata": {
        "id": "V0ZI2LaqNjtT"
      },
      "source": [
        "arr1.ndim"
      ],
      "execution_count": null,
      "outputs": []
    },
    {
      "cell_type": "code",
      "source": [
        "arr1.shape"
      ],
      "metadata": {
        "id": "2gW0BdWB0ciZ",
        "colab": {
          "base_uri": "https://localhost:8080/"
        },
        "outputId": "032b5d3f-7635-42fc-ef88-b5efe6c1f082"
      },
      "execution_count": null,
      "outputs": [
        {
          "output_type": "execute_result",
          "data": {
            "text/plain": [
              "(6,)"
            ]
          },
          "metadata": {},
          "execution_count": 4
        }
      ]
    },
    {
      "cell_type": "code",
      "source": [
        "arr1.dtype"
      ],
      "metadata": {
        "id": "KsFABk1d0eKe",
        "colab": {
          "base_uri": "https://localhost:8080/"
        },
        "outputId": "a9248821-a935-413c-de65-6547cabfecd6"
      },
      "execution_count": null,
      "outputs": [
        {
          "output_type": "execute_result",
          "data": {
            "text/plain": [
              "dtype('int64')"
            ]
          },
          "metadata": {},
          "execution_count": 5
        }
      ]
    },
    {
      "cell_type": "code",
      "source": [
        "arr1.itemsize # the size (in bytes) of each array element"
      ],
      "metadata": {
        "id": "_6jwPcNu0wf4",
        "colab": {
          "base_uri": "https://localhost:8080/"
        },
        "outputId": "7d1a7b47-e124-45c2-84fa-a0a6abcf4543"
      },
      "execution_count": null,
      "outputs": [
        {
          "output_type": "execute_result",
          "data": {
            "text/plain": [
              "8"
            ]
          },
          "metadata": {},
          "execution_count": 6
        }
      ]
    },
    {
      "cell_type": "code",
      "source": [
        "arr1.nbytes # the total size (in bytes) of the array"
      ],
      "metadata": {
        "id": "OhN6xqqN043V",
        "colab": {
          "base_uri": "https://localhost:8080/"
        },
        "outputId": "5a168cd2-9243-430f-df29-adc825760713"
      },
      "execution_count": null,
      "outputs": [
        {
          "output_type": "execute_result",
          "data": {
            "text/plain": [
              "48"
            ]
          },
          "metadata": {},
          "execution_count": 7
        }
      ]
    },
    {
      "cell_type": "code",
      "metadata": {
        "id": "sjFzvo_r5sst"
      },
      "source": [
        "data2 = [1, 3.7, 5, 7, 9, 11.4]"
      ],
      "execution_count": null,
      "outputs": []
    },
    {
      "cell_type": "code",
      "metadata": {
        "id": "FAoOiSIFJrbh",
        "colab": {
          "base_uri": "https://localhost:8080/"
        },
        "outputId": "fcfb6da9-6033-4e39-f8a1-e916cd9a99d9"
      },
      "source": [
        "data2"
      ],
      "execution_count": null,
      "outputs": [
        {
          "output_type": "execute_result",
          "data": {
            "text/plain": [
              "[1, 3.7, 5, 7, 9, 11.4]"
            ]
          },
          "metadata": {},
          "execution_count": 9
        }
      ]
    },
    {
      "cell_type": "markdown",
      "source": [
        "- data2 contiene numeri interi e numeri decimali, posso creare un Numpy array?"
      ],
      "metadata": {
        "id": "EGNsWARxxd3Q"
      }
    },
    {
      "cell_type": "code",
      "metadata": {
        "id": "rq3A4_6X5ss1",
        "colab": {
          "base_uri": "https://localhost:8080/"
        },
        "outputId": "a03abd36-498e-40d0-c1b2-2b8098488d17"
      },
      "source": [
        "arr2 = np.array(data2)\n",
        "print(arr2.dtype)"
      ],
      "execution_count": null,
      "outputs": [
        {
          "output_type": "stream",
          "name": "stdout",
          "text": [
            "float64\n"
          ]
        }
      ]
    },
    {
      "cell_type": "code",
      "metadata": {
        "id": "XUtEZrOQ5ss6",
        "colab": {
          "base_uri": "https://localhost:8080/"
        },
        "outputId": "ee7e801a-48fc-4e99-8732-7d5bf061aefe"
      },
      "source": [
        "arr2"
      ],
      "execution_count": null,
      "outputs": [
        {
          "output_type": "execute_result",
          "data": {
            "text/plain": [
              "array([ 1. ,  3.7,  5. ,  7. ,  9. , 11.4])"
            ]
          },
          "metadata": {},
          "execution_count": 11
        }
      ]
    },
    {
      "cell_type": "code",
      "metadata": {
        "id": "YIbBoOm2KBWL",
        "colab": {
          "base_uri": "https://localhost:8080/"
        },
        "outputId": "7c9374bf-1fa1-490a-893e-97f385a40a67"
      },
      "source": [
        "for x in arr2:\n",
        "  print(x)"
      ],
      "execution_count": null,
      "outputs": [
        {
          "output_type": "stream",
          "name": "stdout",
          "text": [
            "1.0\n",
            "3.7\n",
            "5.0\n",
            "7.0\n",
            "9.0\n",
            "11.4\n"
          ]
        }
      ]
    },
    {
      "cell_type": "code",
      "source": [
        "arr2[0]"
      ],
      "metadata": {
        "id": "qcJZkaEbyP4p"
      },
      "execution_count": null,
      "outputs": []
    },
    {
      "cell_type": "markdown",
      "source": [
        "- Con due dimensioni?"
      ],
      "metadata": {
        "id": "ed_1JDm1zBzu"
      }
    },
    {
      "cell_type": "code",
      "metadata": {
        "id": "jUTZJYZB5stH"
      },
      "source": [
        "data_2 = [[1, 2, 3], [4, 5, 6], [7, 8, 9]]"
      ],
      "execution_count": null,
      "outputs": []
    },
    {
      "cell_type": "code",
      "source": [
        "type(data_2)"
      ],
      "metadata": {
        "id": "gYxsBIu1x5cW",
        "colab": {
          "base_uri": "https://localhost:8080/"
        },
        "outputId": "1d6520c2-7cff-422d-e11e-400c0baf53a1"
      },
      "execution_count": null,
      "outputs": [
        {
          "output_type": "execute_result",
          "data": {
            "text/plain": [
              "list"
            ]
          },
          "metadata": {},
          "execution_count": 14
        }
      ]
    },
    {
      "cell_type": "code",
      "source": [
        "for i in data_2:\n",
        "  print(np.array(i).dtype)"
      ],
      "metadata": {
        "colab": {
          "base_uri": "https://localhost:8080/"
        },
        "id": "Jw3WLukrqHTc",
        "outputId": "76ce29ea-aa6b-48d9-aed9-510d1cd64a3e"
      },
      "execution_count": null,
      "outputs": [
        {
          "output_type": "stream",
          "name": "stdout",
          "text": [
            "int64\n",
            "int64\n",
            "int64\n"
          ]
        }
      ]
    },
    {
      "cell_type": "code",
      "metadata": {
        "id": "Z-NOJQCU2SUa"
      },
      "source": [
        "data_2[1][0]"
      ],
      "execution_count": null,
      "outputs": []
    },
    {
      "cell_type": "code",
      "metadata": {
        "id": "G2wTCU7YLX18"
      },
      "source": [
        "data_2"
      ],
      "execution_count": null,
      "outputs": []
    },
    {
      "cell_type": "code",
      "metadata": {
        "id": "0-eBFU1P5stJ"
      },
      "source": [
        "arr_2 = np.array(data_2)"
      ],
      "execution_count": null,
      "outputs": []
    },
    {
      "cell_type": "code",
      "metadata": {
        "id": "K11fF0jq5stL"
      },
      "source": [
        "arr_2"
      ],
      "execution_count": null,
      "outputs": []
    },
    {
      "cell_type": "code",
      "metadata": {
        "id": "rA__3sGY5stN",
        "colab": {
          "base_uri": "https://localhost:8080/"
        },
        "outputId": "d2f617bb-1769-4ca0-d931-c253aeeb42af"
      },
      "source": [
        "arr_2.ndim"
      ],
      "execution_count": null,
      "outputs": [
        {
          "output_type": "execute_result",
          "data": {
            "text/plain": [
              "2"
            ]
          },
          "metadata": {},
          "execution_count": 19
        }
      ]
    },
    {
      "cell_type": "code",
      "metadata": {
        "id": "PIqPals15stP",
        "colab": {
          "base_uri": "https://localhost:8080/"
        },
        "outputId": "921733cd-b1aa-4405-cf81-84fea418abac"
      },
      "source": [
        "arr_2.shape"
      ],
      "execution_count": null,
      "outputs": [
        {
          "output_type": "execute_result",
          "data": {
            "text/plain": [
              "(3, 3)"
            ]
          },
          "metadata": {},
          "execution_count": 20
        }
      ]
    },
    {
      "cell_type": "markdown",
      "metadata": {
        "id": "s9m7j1RF5sta"
      },
      "source": [
        "- Other techniques for initializing ndarrays\n",
        "  - ones\n",
        "  - zeros\n",
        "  - empty\n",
        "  - eye"
      ]
    },
    {
      "cell_type": "code",
      "metadata": {
        "id": "5PVvByym5stb",
        "colab": {
          "base_uri": "https://localhost:8080/"
        },
        "outputId": "ff0d7843-c019-42ed-eb2f-da8ba60d54c2"
      },
      "source": [
        "np.ones(16)"
      ],
      "execution_count": null,
      "outputs": [
        {
          "output_type": "execute_result",
          "data": {
            "text/plain": [
              "array([1., 1., 1., 1., 1., 1., 1., 1., 1., 1., 1., 1., 1., 1., 1., 1.])"
            ]
          },
          "metadata": {},
          "execution_count": 21
        }
      ]
    },
    {
      "cell_type": "code",
      "metadata": {
        "id": "yDh6c8xGaEx8",
        "colab": {
          "base_uri": "https://localhost:8080/"
        },
        "outputId": "299e32e3-31e4-41b6-a71e-cd2e7ba83567"
      },
      "source": [
        "np.ones((16, 2))"
      ],
      "execution_count": null,
      "outputs": [
        {
          "output_type": "execute_result",
          "data": {
            "text/plain": [
              "array([[1., 1.],\n",
              "       [1., 1.],\n",
              "       [1., 1.],\n",
              "       [1., 1.],\n",
              "       [1., 1.],\n",
              "       [1., 1.],\n",
              "       [1., 1.],\n",
              "       [1., 1.],\n",
              "       [1., 1.],\n",
              "       [1., 1.],\n",
              "       [1., 1.],\n",
              "       [1., 1.],\n",
              "       [1., 1.],\n",
              "       [1., 1.],\n",
              "       [1., 1.],\n",
              "       [1., 1.]])"
            ]
          },
          "metadata": {},
          "execution_count": 22
        }
      ]
    },
    {
      "cell_type": "code",
      "metadata": {
        "id": "DzMQ4cjk5std",
        "colab": {
          "base_uri": "https://localhost:8080/"
        },
        "outputId": "78b72b65-b1e2-4a51-d5d4-6cb9a2bd9f6f"
      },
      "source": [
        "np.empty((3, 4))"
      ],
      "execution_count": null,
      "outputs": [
        {
          "output_type": "execute_result",
          "data": {
            "text/plain": [
              "array([[4.69315922e-310, 0.00000000e+000, 0.00000000e+000,\n",
              "        0.00000000e+000],\n",
              "       [0.00000000e+000, 0.00000000e+000, 0.00000000e+000,\n",
              "        0.00000000e+000],\n",
              "       [0.00000000e+000, 0.00000000e+000, 0.00000000e+000,\n",
              "        0.00000000e+000]])"
            ]
          },
          "metadata": {},
          "execution_count": 23
        }
      ]
    },
    {
      "cell_type": "code",
      "metadata": {
        "id": "4kgq-VkXlCuN",
        "colab": {
          "base_uri": "https://localhost:8080/"
        },
        "outputId": "13c540d8-fedb-46fc-f154-7b5869038839"
      },
      "source": [
        "np.zeros((4, 4, 4))"
      ],
      "execution_count": null,
      "outputs": [
        {
          "output_type": "execute_result",
          "data": {
            "text/plain": [
              "array([[[0., 0., 0., 0.],\n",
              "        [0., 0., 0., 0.],\n",
              "        [0., 0., 0., 0.],\n",
              "        [0., 0., 0., 0.]],\n",
              "\n",
              "       [[0., 0., 0., 0.],\n",
              "        [0., 0., 0., 0.],\n",
              "        [0., 0., 0., 0.],\n",
              "        [0., 0., 0., 0.]],\n",
              "\n",
              "       [[0., 0., 0., 0.],\n",
              "        [0., 0., 0., 0.],\n",
              "        [0., 0., 0., 0.],\n",
              "        [0., 0., 0., 0.]],\n",
              "\n",
              "       [[0., 0., 0., 0.],\n",
              "        [0., 0., 0., 0.],\n",
              "        [0., 0., 0., 0.],\n",
              "        [0., 0., 0., 0.]]])"
            ]
          },
          "metadata": {},
          "execution_count": 24
        }
      ]
    },
    {
      "cell_type": "code",
      "metadata": {
        "id": "WS7s4YLY5stj",
        "colab": {
          "base_uri": "https://localhost:8080/"
        },
        "outputId": "62a276da-e089-4377-c6be-2d3c229d546e"
      },
      "source": [
        "np.eye(44)"
      ],
      "execution_count": null,
      "outputs": [
        {
          "output_type": "execute_result",
          "data": {
            "text/plain": [
              "array([[1., 0., 0., ..., 0., 0., 0.],\n",
              "       [0., 1., 0., ..., 0., 0., 0.],\n",
              "       [0., 0., 1., ..., 0., 0., 0.],\n",
              "       ...,\n",
              "       [0., 0., 0., ..., 1., 0., 0.],\n",
              "       [0., 0., 0., ..., 0., 1., 0.],\n",
              "       [0., 0., 0., ..., 0., 0., 1.]])"
            ]
          },
          "metadata": {},
          "execution_count": 25
        }
      ]
    },
    {
      "cell_type": "markdown",
      "metadata": {
        "id": "XSbMAexj5stl"
      },
      "source": [
        "- When constructing an array, you can specify the data type using a string"
      ]
    },
    {
      "cell_type": "code",
      "metadata": {
        "id": "S3dtK3nt5stl",
        "colab": {
          "base_uri": "https://localhost:8080/"
        },
        "outputId": "558a2cbf-8a72-4ef8-eb07-6bb4fc24ba8e"
      },
      "source": [
        "np.ones(10, dtype='float32')  # Default is numpy.float64"
      ],
      "execution_count": null,
      "outputs": [
        {
          "output_type": "execute_result",
          "data": {
            "text/plain": [
              "array([1., 1., 1., 1., 1., 1., 1., 1., 1., 1.], dtype=float32)"
            ]
          },
          "metadata": {},
          "execution_count": 27
        }
      ]
    },
    {
      "cell_type": "code",
      "source": [
        "# random.randint(low, high=None, size=None, dtype=int)\n",
        "\n",
        "a1 = np.random.randint(10, size=10)  #one-dimensional array\n",
        "a2 = np.random.randint(10, size=(10, 4)) # two-dimensional array\n",
        "a3 = np.random.rand(10) # three-dimensional array\n",
        "print(a1.dtype)\n",
        "print(a3.dtype)"
      ],
      "metadata": {
        "id": "Qg43wTUo2UTz",
        "colab": {
          "base_uri": "https://localhost:8080/"
        },
        "outputId": "38ce9f5c-0905-4521-900f-b442caa5eb9d"
      },
      "execution_count": null,
      "outputs": [
        {
          "output_type": "stream",
          "name": "stdout",
          "text": [
            "int64\n",
            "float64\n"
          ]
        }
      ]
    },
    {
      "cell_type": "markdown",
      "metadata": {
        "id": "fGs_RAFk5stn"
      },
      "source": [
        "## Basic array manipulations"
      ]
    },
    {
      "cell_type": "markdown",
      "metadata": {
        "id": "HdnHrUkZ5st1"
      },
      "source": [
        "#### Indexing and slicing arrays\n",
        "- Getting and setting the value of individual array elements\n",
        "- Getting and setting smaller subarrays within a larger array"
      ]
    },
    {
      "cell_type": "code",
      "metadata": {
        "id": "fj_y7Rmx5st2"
      },
      "source": [
        "# numpy.arange([start, ]stop, [step, ]dtype=None, *, like=None)\n",
        "\n",
        "arr = np.arange(0,10,1)"
      ],
      "execution_count": null,
      "outputs": []
    },
    {
      "cell_type": "code",
      "metadata": {
        "id": "Su5lfmHY5st4",
        "colab": {
          "base_uri": "https://localhost:8080/"
        },
        "outputId": "ff3c58c7-6d79-4c34-9702-bd11d2211d1a"
      },
      "source": [
        "arr"
      ],
      "execution_count": null,
      "outputs": [
        {
          "output_type": "execute_result",
          "data": {
            "text/plain": [
              "array([0, 1, 2, 3, 4, 5, 6, 7, 8, 9])"
            ]
          },
          "metadata": {},
          "execution_count": 32
        }
      ]
    },
    {
      "cell_type": "code",
      "metadata": {
        "id": "R369R-_N5st6",
        "colab": {
          "base_uri": "https://localhost:8080/"
        },
        "outputId": "6527b275-8189-4648-d388-88ae925b7ca0"
      },
      "source": [
        "arr[5]"
      ],
      "execution_count": null,
      "outputs": [
        {
          "output_type": "execute_result",
          "data": {
            "text/plain": [
              "5"
            ]
          },
          "metadata": {},
          "execution_count": 33
        }
      ]
    },
    {
      "cell_type": "code",
      "metadata": {
        "id": "1cBRvd7W5st8",
        "colab": {
          "base_uri": "https://localhost:8080/"
        },
        "outputId": "9092e03b-291f-41d7-b060-9d2d7da09917"
      },
      "source": [
        "arr[:]"
      ],
      "execution_count": null,
      "outputs": [
        {
          "output_type": "execute_result",
          "data": {
            "text/plain": [
              "array([0, 1, 2, 3, 4, 5, 6, 7, 8, 9])"
            ]
          },
          "metadata": {},
          "execution_count": 34
        }
      ]
    },
    {
      "cell_type": "code",
      "source": [
        "arr[2:5]"
      ],
      "metadata": {
        "id": "2zRf0vhze3ED",
        "colab": {
          "base_uri": "https://localhost:8080/"
        },
        "outputId": "fdeb749f-799b-42b6-98cd-9b2771a2e352"
      },
      "execution_count": null,
      "outputs": [
        {
          "output_type": "execute_result",
          "data": {
            "text/plain": [
              "array([2, 3, 4])"
            ]
          },
          "metadata": {},
          "execution_count": 35
        }
      ]
    },
    {
      "cell_type": "code",
      "metadata": {
        "id": "MEj_1oHc5st-"
      },
      "source": [
        "arr[2:5] = 111 # data is not copied, and any modifications to the view will be reflected in the source array"
      ],
      "execution_count": null,
      "outputs": []
    },
    {
      "cell_type": "code",
      "metadata": {
        "id": "nNycn1hf5suE",
        "colab": {
          "base_uri": "https://localhost:8080/"
        },
        "outputId": "3216913b-01f2-423f-abb6-59f831987aef"
      },
      "source": [
        "arr"
      ],
      "execution_count": null,
      "outputs": [
        {
          "output_type": "execute_result",
          "data": {
            "text/plain": [
              "array([  0,   1, 111, 111, 111,   5,   6,   7,   8,   9])"
            ]
          },
          "metadata": {},
          "execution_count": 49
        }
      ]
    },
    {
      "cell_type": "code",
      "source": [
        "lista=[0,1,2]\n",
        "lista[:2]=10,10\n",
        "lista"
      ],
      "metadata": {
        "colab": {
          "base_uri": "https://localhost:8080/"
        },
        "id": "mGPOSRzFribe",
        "outputId": "3d6dca3b-5712-4390-e5d5-8cfb6ec746e4"
      },
      "execution_count": null,
      "outputs": [
        {
          "output_type": "execute_result",
          "data": {
            "text/plain": [
              "[10, 10, 2]"
            ]
          },
          "metadata": {},
          "execution_count": 50
        }
      ]
    },
    {
      "cell_type": "code",
      "metadata": {
        "id": "NDwRU9WX5suP"
      },
      "source": [
        "array2D = np.array([[1, 2, 3], [4, 5, 6], [7, 8, 9]])"
      ],
      "execution_count": null,
      "outputs": []
    },
    {
      "cell_type": "code",
      "metadata": {
        "id": "x7eVplHQ8Ol9",
        "colab": {
          "base_uri": "https://localhost:8080/"
        },
        "outputId": "b8a3ce27-961f-48ef-b3c7-1677a1b8ba64"
      },
      "source": [
        "array2D"
      ],
      "execution_count": null,
      "outputs": [
        {
          "output_type": "execute_result",
          "data": {
            "text/plain": [
              "array([[ 1,  2,  3],\n",
              "       [44,  0,  6],\n",
              "       [ 7,  8,  9]])"
            ]
          },
          "metadata": {},
          "execution_count": 64
        }
      ]
    },
    {
      "cell_type": "code",
      "metadata": {
        "id": "uetlbSaQ5suS",
        "colab": {
          "base_uri": "https://localhost:8080/"
        },
        "outputId": "057852d7-99bb-472f-8132-de6cde341422"
      },
      "source": [
        "array2D[2]"
      ],
      "execution_count": null,
      "outputs": [
        {
          "output_type": "execute_result",
          "data": {
            "text/plain": [
              "array([7, 8, 9])"
            ]
          },
          "metadata": {},
          "execution_count": 40
        }
      ]
    },
    {
      "cell_type": "code",
      "metadata": {
        "id": "Nx5UQdaj5suU",
        "colab": {
          "base_uri": "https://localhost:8080/"
        },
        "outputId": "dbe86d8a-2fcf-4214-cde8-c2ec4685a6bb"
      },
      "source": [
        "array2D[1,1]"
      ],
      "execution_count": null,
      "outputs": [
        {
          "output_type": "execute_result",
          "data": {
            "text/plain": [
              "5"
            ]
          },
          "metadata": {},
          "execution_count": 41
        }
      ]
    },
    {
      "cell_type": "code",
      "metadata": {
        "id": "63xckCFM5suW",
        "colab": {
          "base_uri": "https://localhost:8080/"
        },
        "outputId": "69cdc33c-12de-42d6-9047-3c5854189e82"
      },
      "source": [
        "array2D[1,0]"
      ],
      "execution_count": null,
      "outputs": [
        {
          "output_type": "execute_result",
          "data": {
            "text/plain": [
              "4"
            ]
          },
          "metadata": {},
          "execution_count": 42
        }
      ]
    },
    {
      "cell_type": "code",
      "metadata": {
        "id": "h9gmglc_5suY"
      },
      "source": [
        "array2D[1][0] = 44"
      ],
      "execution_count": null,
      "outputs": []
    },
    {
      "cell_type": "code",
      "metadata": {
        "id": "MCGWfhEC5sua",
        "colab": {
          "base_uri": "https://localhost:8080/"
        },
        "outputId": "64efd285-a6a9-4161-c2dd-e943e9178dc9"
      },
      "source": [
        "array2D"
      ],
      "execution_count": null,
      "outputs": [
        {
          "output_type": "execute_result",
          "data": {
            "text/plain": [
              "array([[ 1,  2,  3],\n",
              "       [44,  5,  6],\n",
              "       [ 7,  8,  9]])"
            ]
          },
          "metadata": {},
          "execution_count": 67
        }
      ]
    },
    {
      "cell_type": "code",
      "metadata": {
        "id": "Js1unP9u5suc",
        "colab": {
          "base_uri": "https://localhost:8080/"
        },
        "outputId": "88accbd7-ff2e-476a-96e3-f91eeb7e9ca2"
      },
      "source": [
        "array2D[:, 0:1]"
      ],
      "execution_count": null,
      "outputs": [
        {
          "output_type": "execute_result",
          "data": {
            "text/plain": [
              "array([[ 1],\n",
              "       [44],\n",
              "       [ 7]])"
            ]
          },
          "metadata": {},
          "execution_count": 45
        }
      ]
    },
    {
      "cell_type": "code",
      "metadata": {
        "id": "Vy3xPA2g5sue",
        "colab": {
          "base_uri": "https://localhost:8080/"
        },
        "outputId": "38d1c26b-e17d-4581-ed7a-37483d5bf5f7"
      },
      "source": [
        "array2D[2:,1:]"
      ],
      "execution_count": null,
      "outputs": [
        {
          "output_type": "execute_result",
          "data": {
            "text/plain": [
              "array([[8, 9]])"
            ]
          },
          "metadata": {},
          "execution_count": 46
        }
      ]
    },
    {
      "cell_type": "code",
      "metadata": {
        "id": "Ixe_1Ltu5suh",
        "colab": {
          "base_uri": "https://localhost:8080/"
        },
        "outputId": "601d66cb-38cc-4df5-fef0-31682988a103"
      },
      "source": [
        "array2D[:,1:]"
      ],
      "execution_count": null,
      "outputs": [
        {
          "output_type": "execute_result",
          "data": {
            "text/plain": [
              "array([[2, 3],\n",
              "       [5, 6],\n",
              "       [8, 9]])"
            ]
          },
          "metadata": {},
          "execution_count": 47
        }
      ]
    },
    {
      "cell_type": "markdown",
      "metadata": {
        "id": "58P_T-TZ5sum"
      },
      "source": [
        "#### Boolean indexing"
      ]
    },
    {
      "cell_type": "code",
      "metadata": {
        "id": "i06gPu5G5suo"
      },
      "source": [
        "data = np.random.randn(7,5)"
      ],
      "execution_count": null,
      "outputs": []
    },
    {
      "cell_type": "code",
      "metadata": {
        "id": "WNVJ6zoH5sur",
        "colab": {
          "base_uri": "https://localhost:8080/"
        },
        "outputId": "f938ffa0-6c52-488f-9116-ac9a0050de8a"
      },
      "source": [
        "data"
      ],
      "execution_count": null,
      "outputs": [
        {
          "output_type": "execute_result",
          "data": {
            "text/plain": [
              "array([[ 0.21203731, -0.87377232, -0.06592366,  0.01485121, -0.21934066],\n",
              "       [-1.39744139, -0.5399244 , -1.03483349, -1.22797709, -0.07997076],\n",
              "       [ 0.53543961, -0.0843906 , -1.14168202,  1.01691782,  0.5470734 ],\n",
              "       [-1.21859879,  1.95325087,  0.45173675, -2.05489535, -0.23766025],\n",
              "       [-0.5146765 ,  0.23468004, -0.63099516, -0.82936926,  0.49440542],\n",
              "       [-1.16574337,  0.61379965,  0.27681289, -1.49999785, -1.57819102],\n",
              "       [ 2.27149517, -0.11920678,  1.36413659, -0.40839608, -0.81235145]])"
            ]
          },
          "metadata": {},
          "execution_count": 52
        }
      ]
    },
    {
      "cell_type": "code",
      "source": [
        "data < 0"
      ],
      "metadata": {
        "id": "FISS9Owcq-PO",
        "colab": {
          "base_uri": "https://localhost:8080/"
        },
        "outputId": "2330402d-583e-466a-e347-970df2f0b8b3"
      },
      "execution_count": null,
      "outputs": [
        {
          "output_type": "execute_result",
          "data": {
            "text/plain": [
              "array([[False,  True,  True, False,  True],\n",
              "       [ True,  True,  True,  True,  True],\n",
              "       [False,  True,  True, False, False],\n",
              "       [ True, False, False,  True,  True],\n",
              "       [ True, False,  True,  True, False],\n",
              "       [ True, False, False,  True,  True],\n",
              "       [False,  True, False,  True,  True]])"
            ]
          },
          "metadata": {},
          "execution_count": 53
        }
      ]
    },
    {
      "cell_type": "code",
      "metadata": {
        "id": "ISdef--zSDRZ"
      },
      "source": [
        "data[data<0]=0"
      ],
      "execution_count": null,
      "outputs": []
    },
    {
      "cell_type": "code",
      "metadata": {
        "id": "ci4bXLRtSDDl",
        "colab": {
          "base_uri": "https://localhost:8080/"
        },
        "outputId": "9a828d94-1305-4e82-af87-c0c7888975eb"
      },
      "source": [
        "data"
      ],
      "execution_count": null,
      "outputs": [
        {
          "output_type": "execute_result",
          "data": {
            "text/plain": [
              "array([[0.21203731, 0.        , 0.        , 0.01485121, 0.        ],\n",
              "       [0.        , 0.        , 0.        , 0.        , 0.        ],\n",
              "       [0.53543961, 0.        , 0.        , 1.01691782, 0.5470734 ],\n",
              "       [0.        , 1.95325087, 0.45173675, 0.        , 0.        ],\n",
              "       [0.        , 0.23468004, 0.        , 0.        , 0.49440542],\n",
              "       [0.        , 0.61379965, 0.27681289, 0.        , 0.        ],\n",
              "       [2.27149517, 0.        , 1.36413659, 0.        , 0.        ]])"
            ]
          },
          "metadata": {},
          "execution_count": 55
        }
      ]
    },
    {
      "cell_type": "code",
      "metadata": {
        "id": "GvfF0uW6-WxP",
        "colab": {
          "base_uri": "https://localhost:8080/"
        },
        "outputId": "6360b1ac-9079-425e-e0cf-f0e8dff62cd0"
      },
      "source": [
        "array2D"
      ],
      "execution_count": null,
      "outputs": [
        {
          "output_type": "execute_result",
          "data": {
            "text/plain": [
              "array([[ 1,  2,  3],\n",
              "       [44,  5,  6],\n",
              "       [ 7,  8,  9]])"
            ]
          },
          "metadata": {},
          "execution_count": 56
        }
      ]
    },
    {
      "cell_type": "code",
      "metadata": {
        "id": "ZdE1I4O5-Wph",
        "colab": {
          "base_uri": "https://localhost:8080/"
        },
        "outputId": "23f7767d-a861-4ad3-83c9-377993708eee"
      },
      "source": [
        "array2D == 5"
      ],
      "execution_count": null,
      "outputs": [
        {
          "output_type": "execute_result",
          "data": {
            "text/plain": [
              "array([[False, False, False],\n",
              "       [False,  True, False],\n",
              "       [False, False, False]])"
            ]
          },
          "metadata": {},
          "execution_count": 57
        }
      ]
    },
    {
      "cell_type": "code",
      "metadata": {
        "id": "GA6QvDHZ-Wfy"
      },
      "source": [
        "array2D[array2D == 44]=0"
      ],
      "execution_count": null,
      "outputs": []
    },
    {
      "cell_type": "code",
      "metadata": {
        "id": "cDBHc3Gi-WUn",
        "colab": {
          "base_uri": "https://localhost:8080/"
        },
        "outputId": "708551c4-c1f0-49e5-d9df-17281b86a7e0"
      },
      "source": [
        "array2D"
      ],
      "execution_count": null,
      "outputs": [
        {
          "output_type": "execute_result",
          "data": {
            "text/plain": [
              "array([[1, 2, 3],\n",
              "       [0, 5, 6],\n",
              "       [7, 8, 9]])"
            ]
          },
          "metadata": {},
          "execution_count": 69
        }
      ]
    },
    {
      "cell_type": "code",
      "source": [
        "(array2D == 3) | (array2D == 8)"
      ],
      "metadata": {
        "id": "-yZHjXRHgSp4",
        "colab": {
          "base_uri": "https://localhost:8080/"
        },
        "outputId": "2880479d-5afd-49df-999b-9dff43395f64"
      },
      "execution_count": null,
      "outputs": [
        {
          "output_type": "execute_result",
          "data": {
            "text/plain": [
              "array([[False, False,  True],\n",
              "       [False, False, False],\n",
              "       [False,  True, False]])"
            ]
          },
          "metadata": {},
          "execution_count": 60
        }
      ]
    },
    {
      "cell_type": "markdown",
      "metadata": {
        "id": "mz79pm9z5su8"
      },
      "source": [
        "#### Fancy Indexing\n",
        "- Fancy indexing is a term adopted by NumPy to describe indexing using integer arrays.\n",
        "- To select out a subset of the rows in a particular order, you can simply pass a list or ndarray of integers specifying the desired order"
      ]
    },
    {
      "cell_type": "code",
      "metadata": {
        "id": "DI_gNOpe5su8"
      },
      "source": [
        "arr = np.empty((10, 6))"
      ],
      "execution_count": null,
      "outputs": []
    },
    {
      "cell_type": "code",
      "metadata": {
        "id": "amYcEffU5su-"
      },
      "source": [
        "for i in range(10):\n",
        "    arr[i] = i"
      ],
      "execution_count": null,
      "outputs": []
    },
    {
      "cell_type": "code",
      "metadata": {
        "id": "sERhphvs5su_",
        "colab": {
          "base_uri": "https://localhost:8080/"
        },
        "outputId": "5be4f7c5-5c2b-4741-8d3a-856ddb9f6177"
      },
      "source": [
        "arr"
      ],
      "execution_count": null,
      "outputs": [
        {
          "output_type": "execute_result",
          "data": {
            "text/plain": [
              "array([[0., 0., 0., 0., 0., 0.],\n",
              "       [1., 1., 1., 1., 1., 1.],\n",
              "       [2., 2., 2., 2., 2., 2.],\n",
              "       [3., 3., 3., 3., 3., 3.],\n",
              "       [4., 4., 4., 4., 4., 4.],\n",
              "       [5., 5., 5., 5., 5., 5.],\n",
              "       [6., 6., 6., 6., 6., 6.],\n",
              "       [7., 7., 7., 7., 7., 7.],\n",
              "       [8., 8., 8., 8., 8., 8.],\n",
              "       [9., 9., 9., 9., 9., 9.]])"
            ]
          },
          "metadata": {},
          "execution_count": 72
        }
      ]
    },
    {
      "cell_type": "code",
      "metadata": {
        "id": "pc6KwbGW5svB",
        "colab": {
          "base_uri": "https://localhost:8080/"
        },
        "outputId": "5b4f1c56-14e9-4956-8a20-177b1b0707b9"
      },
      "source": [
        "arr[[2,1,4]] #fancy indexing"
      ],
      "execution_count": null,
      "outputs": [
        {
          "output_type": "execute_result",
          "data": {
            "text/plain": [
              "array([[2., 2., 2., 2., 2., 2.],\n",
              "       [1., 1., 1., 1., 1., 1.],\n",
              "       [4., 4., 4., 4., 4., 4.]])"
            ]
          },
          "metadata": {},
          "execution_count": 86
        }
      ]
    },
    {
      "cell_type": "code",
      "metadata": {
        "id": "APX-7Y6I5svE",
        "colab": {
          "base_uri": "https://localhost:8080/"
        },
        "outputId": "52302760-26e7-43b3-94c7-3c1099e0bcd7"
      },
      "source": [
        "arr[np.array([1,5,4,3,6,6,7])]"
      ],
      "execution_count": null,
      "outputs": [
        {
          "output_type": "execute_result",
          "data": {
            "text/plain": [
              "array([[1., 1., 1., 1., 1., 1.],\n",
              "       [5., 5., 5., 5., 5., 5.],\n",
              "       [4., 4., 4., 4., 4., 4.],\n",
              "       [3., 3., 3., 3., 3., 3.],\n",
              "       [6., 6., 6., 6., 6., 6.],\n",
              "       [6., 6., 6., 6., 6., 6.],\n",
              "       [7., 7., 7., 7., 7., 7.]])"
            ]
          },
          "metadata": {},
          "execution_count": 74
        }
      ]
    },
    {
      "cell_type": "markdown",
      "metadata": {
        "id": "5B1fj3EF5svG"
      },
      "source": [
        "#### Reshaping of arrays\n",
        "- Changing the shape of a given array\n"
      ]
    },
    {
      "cell_type": "code",
      "metadata": {
        "id": "BUZYf5SS5svG",
        "colab": {
          "base_uri": "https://localhost:8080/"
        },
        "outputId": "2a6b8f8b-bfe6-4ee3-dde2-3f6e0393f158"
      },
      "source": [
        "arr.shape"
      ],
      "execution_count": null,
      "outputs": [
        {
          "output_type": "execute_result",
          "data": {
            "text/plain": [
              "(10, 6)"
            ]
          },
          "metadata": {},
          "execution_count": 87
        }
      ]
    },
    {
      "cell_type": "code",
      "metadata": {
        "id": "QTCWlvhp5svI",
        "colab": {
          "base_uri": "https://localhost:8080/"
        },
        "outputId": "4bb77d2b-251d-4e2e-bd16-edf9439c1dc5"
      },
      "source": [
        "arr"
      ],
      "execution_count": null,
      "outputs": [
        {
          "output_type": "execute_result",
          "data": {
            "text/plain": [
              "array([[0., 0., 0., 0., 0., 0.],\n",
              "       [1., 1., 1., 1., 1., 1.],\n",
              "       [2., 2., 2., 2., 2., 2.],\n",
              "       [3., 3., 3., 3., 3., 3.],\n",
              "       [4., 4., 4., 4., 4., 4.],\n",
              "       [5., 5., 5., 5., 5., 5.],\n",
              "       [6., 6., 6., 6., 6., 6.],\n",
              "       [7., 7., 7., 7., 7., 7.],\n",
              "       [8., 8., 8., 8., 8., 8.],\n",
              "       [9., 9., 9., 9., 9., 9.]])"
            ]
          },
          "metadata": {},
          "execution_count": 88
        }
      ]
    },
    {
      "cell_type": "code",
      "metadata": {
        "id": "9iXS4_l-TRAY",
        "colab": {
          "base_uri": "https://localhost:8080/"
        },
        "outputId": "de582af1-9880-4451-c781-e2d5068cb9c9"
      },
      "source": [
        "arr.reshape((5,12)) #be careful, pay attention to what you are shaping, use np.transpose if it's what you are looking for"
      ],
      "execution_count": null,
      "outputs": [
        {
          "output_type": "execute_result",
          "data": {
            "text/plain": [
              "array([[0., 0., 0., 0., 0., 0., 1., 1., 1., 1., 1., 1.],\n",
              "       [2., 2., 2., 2., 2., 2., 3., 3., 3., 3., 3., 3.],\n",
              "       [4., 4., 4., 4., 4., 4., 5., 5., 5., 5., 5., 5.],\n",
              "       [6., 6., 6., 6., 6., 6., 7., 7., 7., 7., 7., 7.],\n",
              "       [8., 8., 8., 8., 8., 8., 9., 9., 9., 9., 9., 9.]])"
            ]
          },
          "metadata": {},
          "execution_count": 92
        }
      ]
    },
    {
      "cell_type": "code",
      "metadata": {
        "id": "2Nez_mn35svJ",
        "colab": {
          "base_uri": "https://localhost:8080/"
        },
        "outputId": "affe664f-9d00-4900-b505-96b5f72f81a6"
      },
      "source": [
        "arr.reshape((-1,15))"
      ],
      "execution_count": null,
      "outputs": [
        {
          "output_type": "execute_result",
          "data": {
            "text/plain": [
              "array([[0., 0., 0., 0., 0., 0., 1., 1., 1., 1., 1., 1., 2., 2., 2.],\n",
              "       [2., 2., 2., 3., 3., 3., 3., 3., 3., 4., 4., 4., 4., 4., 4.],\n",
              "       [5., 5., 5., 5., 5., 5., 6., 6., 6., 6., 6., 6., 7., 7., 7.],\n",
              "       [7., 7., 7., 8., 8., 8., 8., 8., 8., 9., 9., 9., 9., 9., 9.]])"
            ]
          },
          "metadata": {},
          "execution_count": 93
        }
      ]
    },
    {
      "cell_type": "code",
      "metadata": {
        "id": "anP5wA7L5svL",
        "colab": {
          "base_uri": "https://localhost:8080/"
        },
        "outputId": "5c6e47d2-1c1f-409c-ea67-62e7a3e37f1e"
      },
      "source": [
        "arr.reshape((3,2,10))"
      ],
      "execution_count": null,
      "outputs": [
        {
          "output_type": "execute_result",
          "data": {
            "text/plain": [
              "array([[[0., 0., 0., 0., 0., 0., 1., 1., 1., 1.],\n",
              "        [1., 1., 2., 2., 2., 2., 2., 2., 3., 3.]],\n",
              "\n",
              "       [[3., 3., 3., 3., 4., 4., 4., 4., 4., 4.],\n",
              "        [5., 5., 5., 5., 5., 5., 6., 6., 6., 6.]],\n",
              "\n",
              "       [[6., 6., 7., 7., 7., 7., 7., 7., 8., 8.],\n",
              "        [8., 8., 8., 8., 9., 9., 9., 9., 9., 9.]]])"
            ]
          },
          "metadata": {},
          "execution_count": 91
        }
      ]
    },
    {
      "cell_type": "markdown",
      "metadata": {
        "id": "O4hMRPpG5svN"
      },
      "source": [
        "#### Change the data type of an array."
      ]
    },
    {
      "cell_type": "code",
      "metadata": {
        "id": "xEEB7T8Z5svN"
      },
      "source": [
        "x = np.array([[2, 4, 6], [6, 8, 10]], np.int32)"
      ],
      "execution_count": null,
      "outputs": []
    },
    {
      "cell_type": "code",
      "metadata": {
        "id": "qPIWjgWZ5svO"
      },
      "source": [
        "y= x.astype(float)"
      ],
      "execution_count": null,
      "outputs": []
    },
    {
      "cell_type": "code",
      "metadata": {
        "id": "axe6O0yI5svQ",
        "colab": {
          "base_uri": "https://localhost:8080/"
        },
        "outputId": "9e455526-ad61-40db-ea2d-66c661741a6f"
      },
      "source": [
        "y"
      ],
      "execution_count": null,
      "outputs": [
        {
          "output_type": "execute_result",
          "data": {
            "text/plain": [
              "array([[ 2.,  4.,  6.],\n",
              "       [ 6.,  8., 10.]])"
            ]
          },
          "metadata": {},
          "execution_count": 96
        }
      ]
    },
    {
      "cell_type": "markdown",
      "metadata": {
        "id": "BcdwPmji5svR"
      },
      "source": [
        "#### Joining and splitting of arrays\n",
        "- Combining multiple arrays into one, and splitting one array into many\n",
        "  - np.concatenate takes a tuple or list of arrays as its first argument"
      ]
    },
    {
      "cell_type": "code",
      "metadata": {
        "id": "Dz0HMllo5svS"
      },
      "source": [
        "x = np.array([1,2,3,4,5])\n",
        "y = np.array([6,7,8,9,10])"
      ],
      "execution_count": null,
      "outputs": []
    },
    {
      "cell_type": "code",
      "metadata": {
        "id": "KN7PngfW5svT",
        "colab": {
          "base_uri": "https://localhost:8080/"
        },
        "outputId": "2a6ed473-66df-4b4f-df44-81792b7f67ec"
      },
      "source": [
        "np.concatenate([x,y])"
      ],
      "execution_count": null,
      "outputs": [
        {
          "output_type": "execute_result",
          "data": {
            "text/plain": [
              "array([ 1,  2,  3,  4,  5,  6,  7,  8,  9, 10])"
            ]
          },
          "metadata": {},
          "execution_count": 105
        }
      ]
    },
    {
      "cell_type": "code",
      "metadata": {
        "id": "mAWAzrPWUJ-g",
        "colab": {
          "base_uri": "https://localhost:8080/",
          "height": 144
        },
        "outputId": "b8cfb8d1-013e-4fcd-bf12-263970958708"
      },
      "source": [
        "np.concatenate([x,y],axis=1)    # The axis along which the arrays will be joined. If axis is None, arrays are flattened before use. Default is 0."
      ],
      "execution_count": null,
      "outputs": [
        {
          "output_type": "error",
          "ename": "AxisError",
          "evalue": "axis 1 is out of bounds for array of dimension 1",
          "traceback": [
            "\u001b[0;31m---------------------------------------------------------------------------\u001b[0m",
            "\u001b[0;31mAxisError\u001b[0m                                 Traceback (most recent call last)",
            "\u001b[0;32m<ipython-input-108-c2bbfe8e56a8>\u001b[0m in \u001b[0;36m<cell line: 1>\u001b[0;34m()\u001b[0m\n\u001b[0;32m----> 1\u001b[0;31m \u001b[0mnp\u001b[0m\u001b[0;34m.\u001b[0m\u001b[0mconcatenate\u001b[0m\u001b[0;34m(\u001b[0m\u001b[0;34m[\u001b[0m\u001b[0mx\u001b[0m\u001b[0;34m,\u001b[0m\u001b[0my\u001b[0m\u001b[0;34m]\u001b[0m\u001b[0;34m,\u001b[0m\u001b[0maxis\u001b[0m\u001b[0;34m=\u001b[0m\u001b[0;36m1\u001b[0m\u001b[0;34m)\u001b[0m    \u001b[0;31m# The axis along which the arrays will be joined. If axis is None, arrays are flattened before use. Default is 0.\u001b[0m\u001b[0;34m\u001b[0m\u001b[0;34m\u001b[0m\u001b[0m\n\u001b[0m",
            "\u001b[0;31mAxisError\u001b[0m: axis 1 is out of bounds for array of dimension 1"
          ]
        }
      ]
    },
    {
      "cell_type": "code",
      "metadata": {
        "id": "_DtPpmBqWhLx"
      },
      "source": [
        "xR=x.reshape(1,-1)\n",
        "yR=y.reshape(1,-1)"
      ],
      "execution_count": null,
      "outputs": []
    },
    {
      "cell_type": "code",
      "metadata": {
        "id": "-l00LSPoQg0q",
        "colab": {
          "base_uri": "https://localhost:8080/"
        },
        "outputId": "75032181-c272-4b14-d587-5a3d85583578"
      },
      "source": [
        "xR"
      ],
      "execution_count": null,
      "outputs": [
        {
          "output_type": "execute_result",
          "data": {
            "text/plain": [
              "array([[1, 2, 3, 4, 5]])"
            ]
          },
          "metadata": {},
          "execution_count": 110
        }
      ]
    },
    {
      "cell_type": "code",
      "metadata": {
        "id": "xpnArCaTQjqO",
        "colab": {
          "base_uri": "https://localhost:8080/"
        },
        "outputId": "f34098e6-523c-4afc-c3b5-93ac6da4f571"
      },
      "source": [
        "xR.ndim"
      ],
      "execution_count": null,
      "outputs": [
        {
          "output_type": "execute_result",
          "data": {
            "text/plain": [
              "2"
            ]
          },
          "metadata": {},
          "execution_count": 111
        }
      ]
    },
    {
      "cell_type": "code",
      "metadata": {
        "id": "w9m4XoTTQmcM",
        "colab": {
          "base_uri": "https://localhost:8080/"
        },
        "outputId": "04c030ae-4ae4-41c9-c417-1b02873dd701"
      },
      "source": [
        "xR.shape"
      ],
      "execution_count": null,
      "outputs": [
        {
          "output_type": "execute_result",
          "data": {
            "text/plain": [
              "(1, 5)"
            ]
          },
          "metadata": {},
          "execution_count": 112
        }
      ]
    },
    {
      "cell_type": "code",
      "metadata": {
        "id": "JnKtp7PnWg2N",
        "colab": {
          "base_uri": "https://localhost:8080/"
        },
        "outputId": "0522bf84-d5f2-41f5-d12b-fe15c5a1c2ed"
      },
      "source": [
        "np.concatenate([xR,yR])    # default axis=0"
      ],
      "execution_count": null,
      "outputs": [
        {
          "output_type": "execute_result",
          "data": {
            "text/plain": [
              "array([[ 1,  2,  3,  4,  5],\n",
              "       [ 6,  7,  8,  9, 10]])"
            ]
          },
          "metadata": {},
          "execution_count": 113
        }
      ]
    },
    {
      "cell_type": "code",
      "source": [
        "np.concatenate([xR,yR], axis=1)"
      ],
      "metadata": {
        "id": "pTzOn_-UmseG",
        "colab": {
          "base_uri": "https://localhost:8080/"
        },
        "outputId": "51c18e22-3dc9-4e3c-cf20-48b66ee2d730"
      },
      "execution_count": null,
      "outputs": [
        {
          "output_type": "execute_result",
          "data": {
            "text/plain": [
              "array([[ 1,  2,  3,  4,  5,  6,  7,  8,  9, 10]])"
            ]
          },
          "metadata": {},
          "execution_count": 114
        }
      ]
    },
    {
      "cell_type": "markdown",
      "metadata": {
        "id": "nh_ucUJq5svf"
      },
      "source": [
        "- For working with arrays of mixed dimensions, it can be clearer to use the np.vstack (vertical stack) and np.hstack (horizontal stack) functions\n"
      ]
    },
    {
      "cell_type": "code",
      "metadata": {
        "id": "8uQCtotb5svg"
      },
      "source": [
        "x = np.array([1,2,3])\n",
        "y = np.array([[4,5,6],[7,8,9]])"
      ],
      "execution_count": null,
      "outputs": []
    },
    {
      "cell_type": "code",
      "metadata": {
        "id": "StyxjQwMRgvH",
        "colab": {
          "base_uri": "https://localhost:8080/"
        },
        "outputId": "7c53391a-7b7c-420b-ee33-4bcfe73aebee"
      },
      "source": [
        "x"
      ],
      "execution_count": null,
      "outputs": [
        {
          "output_type": "execute_result",
          "data": {
            "text/plain": [
              "array([1, 2, 3])"
            ]
          },
          "metadata": {},
          "execution_count": 120
        }
      ]
    },
    {
      "cell_type": "code",
      "source": [
        "y"
      ],
      "metadata": {
        "id": "IiLSWF1dn-tT",
        "colab": {
          "base_uri": "https://localhost:8080/"
        },
        "outputId": "22966743-d744-43c8-f120-3a82956ff0e7"
      },
      "execution_count": null,
      "outputs": [
        {
          "output_type": "execute_result",
          "data": {
            "text/plain": [
              "array([[4, 5, 6],\n",
              "       [7, 8, 9]])"
            ]
          },
          "metadata": {},
          "execution_count": 121
        }
      ]
    },
    {
      "cell_type": "code",
      "metadata": {
        "id": "3Woc5Oc45svh",
        "colab": {
          "base_uri": "https://localhost:8080/"
        },
        "outputId": "882cb413-3ba5-45de-ccf9-cc740e595e03"
      },
      "source": [
        "np.vstack([x,y])"
      ],
      "execution_count": null,
      "outputs": [
        {
          "output_type": "execute_result",
          "data": {
            "text/plain": [
              "array([[1, 2, 3],\n",
              "       [4, 5, 6],\n",
              "       [7, 8, 9]])"
            ]
          },
          "metadata": {},
          "execution_count": 122
        }
      ]
    },
    {
      "cell_type": "code",
      "metadata": {
        "id": "NVMD5hHv5svj",
        "colab": {
          "base_uri": "https://localhost:8080/"
        },
        "outputId": "3fa39a39-9567-44a9-d54c-73351ec7f460"
      },
      "source": [
        "np.hstack([y,y])"
      ],
      "execution_count": null,
      "outputs": [
        {
          "output_type": "execute_result",
          "data": {
            "text/plain": [
              "array([[4, 5, 6, 4, 5, 6],\n",
              "       [7, 8, 9, 7, 8, 9]])"
            ]
          },
          "metadata": {},
          "execution_count": 125
        }
      ]
    },
    {
      "cell_type": "markdown",
      "metadata": {
        "id": "o5g6MXbBnjn8"
      },
      "source": [
        "- The opposite of concatenation is splitting, which is implemented by the functions np.split\n"
      ]
    },
    {
      "cell_type": "code",
      "metadata": {
        "id": "c5BptJ0Q5svp"
      },
      "source": [
        "z, k = np.split(y,[1])"
      ],
      "execution_count": null,
      "outputs": []
    },
    {
      "cell_type": "code",
      "metadata": {
        "id": "MWkH_EeQ5svr",
        "colab": {
          "base_uri": "https://localhost:8080/"
        },
        "outputId": "48e215ef-8a48-423d-8b4d-f5d81d25a3b7"
      },
      "source": [
        "z"
      ],
      "execution_count": null,
      "outputs": [
        {
          "output_type": "execute_result",
          "data": {
            "text/plain": [
              "array([[4, 5, 6]])"
            ]
          },
          "metadata": {},
          "execution_count": 127
        }
      ]
    },
    {
      "cell_type": "code",
      "metadata": {
        "id": "loNYonjZ5svs",
        "colab": {
          "base_uri": "https://localhost:8080/"
        },
        "outputId": "5270188b-2f62-4e19-d148-54a7542ae33e"
      },
      "source": [
        "k"
      ],
      "execution_count": null,
      "outputs": [
        {
          "output_type": "execute_result",
          "data": {
            "text/plain": [
              "array([[7, 8, 9]])"
            ]
          },
          "metadata": {},
          "execution_count": 128
        }
      ]
    },
    {
      "cell_type": "markdown",
      "metadata": {
        "id": "ehZjuI1-5svt"
      },
      "source": [
        "## Computation on NumPy Arrays\n",
        "\n"
      ]
    },
    {
      "cell_type": "markdown",
      "metadata": {
        "id": "uB6xrirK5svt"
      },
      "source": [
        "- Any arithmetic operations between **equal-size arrays** applies the operation **element-wise**\n",
        "- Arithmetic operations with scalars are propagating the value to each element"
      ]
    },
    {
      "cell_type": "code",
      "metadata": {
        "id": "nZjoJPZ05svu"
      },
      "source": [
        "arr1 = np.random.randint(10,size= (10,10))\n",
        "arr2 = np.random.randint(10,size= (10,10))"
      ],
      "execution_count": null,
      "outputs": []
    },
    {
      "cell_type": "code",
      "metadata": {
        "id": "NWENkt6q5svv",
        "colab": {
          "base_uri": "https://localhost:8080/"
        },
        "outputId": "08e6d731-fad3-4202-bf23-c0da242b301e"
      },
      "source": [
        "arr1"
      ],
      "execution_count": null,
      "outputs": [
        {
          "output_type": "execute_result",
          "data": {
            "text/plain": [
              "array([[4, 3, 1, 9, 1, 3, 4, 1, 1, 9],\n",
              "       [6, 3, 7, 4, 3, 8, 7, 2, 0, 6],\n",
              "       [0, 5, 8, 6, 9, 2, 3, 3, 3, 9],\n",
              "       [4, 6, 2, 0, 0, 5, 3, 4, 4, 4],\n",
              "       [2, 3, 5, 1, 9, 2, 3, 2, 8, 4],\n",
              "       [3, 9, 5, 3, 6, 3, 6, 2, 3, 0],\n",
              "       [4, 8, 9, 8, 7, 6, 5, 8, 4, 0],\n",
              "       [1, 5, 3, 3, 1, 6, 1, 6, 6, 8],\n",
              "       [8, 4, 1, 6, 8, 9, 1, 9, 0, 8],\n",
              "       [2, 5, 8, 4, 6, 5, 9, 6, 7, 4]])"
            ]
          },
          "metadata": {},
          "execution_count": 130
        }
      ]
    },
    {
      "cell_type": "code",
      "metadata": {
        "id": "CpWFvycX5svw",
        "colab": {
          "base_uri": "https://localhost:8080/"
        },
        "outputId": "270946c0-f1fb-468e-da57-ee983a8aff53"
      },
      "source": [
        "arr1 * 125"
      ],
      "execution_count": null,
      "outputs": [
        {
          "output_type": "execute_result",
          "data": {
            "text/plain": [
              "array([[ 500,  375,  125, 1125,  125,  375,  500,  125,  125, 1125],\n",
              "       [ 750,  375,  875,  500,  375, 1000,  875,  250,    0,  750],\n",
              "       [   0,  625, 1000,  750, 1125,  250,  375,  375,  375, 1125],\n",
              "       [ 500,  750,  250,    0,    0,  625,  375,  500,  500,  500],\n",
              "       [ 250,  375,  625,  125, 1125,  250,  375,  250, 1000,  500],\n",
              "       [ 375, 1125,  625,  375,  750,  375,  750,  250,  375,    0],\n",
              "       [ 500, 1000, 1125, 1000,  875,  750,  625, 1000,  500,    0],\n",
              "       [ 125,  625,  375,  375,  125,  750,  125,  750,  750, 1000],\n",
              "       [1000,  500,  125,  750, 1000, 1125,  125, 1125,    0, 1000],\n",
              "       [ 250,  625, 1000,  500,  750,  625, 1125,  750,  875,  500]])"
            ]
          },
          "metadata": {},
          "execution_count": 131
        }
      ]
    },
    {
      "cell_type": "code",
      "metadata": {
        "id": "iN_3WGBE5sv2",
        "colab": {
          "base_uri": "https://localhost:8080/"
        },
        "outputId": "353b745f-afa5-4bf7-dd61-91f115c2c743"
      },
      "source": [
        "arr1 + arr2    # arr1 and arr2 have the same shape"
      ],
      "execution_count": null,
      "outputs": [
        {
          "output_type": "execute_result",
          "data": {
            "text/plain": [
              "array([[10,  8,  7,  9,  3, 12, 12,  2,  2, 15],\n",
              "       [11,  3, 11, 13,  9, 15, 10,  6,  1, 13],\n",
              "       [ 1, 13, 15, 15, 10,  5, 12,  4, 11, 14],\n",
              "       [13, 12, 11,  6,  6,  7,  4,  4,  8,  9],\n",
              "       [ 9,  4, 11,  3,  9,  8, 10,  6, 10,  4],\n",
              "       [ 3,  9, 12, 12, 14,  5,  6, 11,  5,  7],\n",
              "       [ 4, 13, 14,  8, 11,  6,  7, 12, 12,  3],\n",
              "       [ 6, 14, 10,  9,  2, 15,  2,  7, 14, 13],\n",
              "       [15,  9,  4,  8, 16, 16,  1, 15,  7, 16],\n",
              "       [ 2,  6, 12, 10, 15, 13, 16,  9, 15, 13]])"
            ]
          },
          "metadata": {},
          "execution_count": 132
        }
      ]
    },
    {
      "cell_type": "code",
      "metadata": {
        "id": "lG0GuWsF5sv3",
        "colab": {
          "base_uri": "https://localhost:8080/"
        },
        "outputId": "be4d6301-1fda-49c9-9d4a-521b752d3eda"
      },
      "source": [
        "arr1 * arr2 - arr1 / ( arr2 + 1)"
      ],
      "execution_count": null,
      "outputs": [
        {
          "output_type": "execute_result",
          "data": {
            "text/plain": [
              "array([[23.42857143, 14.5       ,  5.85714286, -9.        ,  1.66666667,\n",
              "        26.7       , 31.55555556,  0.5       ,  0.5       , 52.71428571],\n",
              "       [29.        , -3.        , 26.6       , 35.6       , 17.57142857,\n",
              "        55.        , 19.25      ,  7.6       ,  0.        , 41.25      ],\n",
              "       [ 0.        , 39.44444444, 55.        , 53.4       ,  4.5       ,\n",
              "         5.5       , 26.7       ,  1.5       , 23.66666667, 43.5       ],\n",
              "       [35.6       , 35.14285714, 17.8       ,  0.        ,  0.        ,\n",
              "         8.33333333,  1.5       , -4.        , 15.2       , 19.33333333],\n",
              "       [13.75      ,  1.5       , 29.28571429,  1.66666667, -9.        ,\n",
              "        11.71428571, 20.625     ,  7.6       , 13.33333333, -4.        ],\n",
              "       [-3.        , -9.        , 34.375     , 26.7       , 47.33333333,\n",
              "         5.        , -6.        , 17.8       ,  5.        ,  0.        ],\n",
              "       [-4.        , 38.66666667, 43.5       , -8.        , 26.6       ,\n",
              "        -6.        ,  8.33333333, 30.4       , 31.55555556,  0.        ],\n",
              "       [ 4.83333333, 44.5       , 20.625     , 17.57142857,  0.5       ,\n",
              "        53.4       ,  0.5       ,  3.        , 47.33333333, 38.66666667],\n",
              "       [55.        , 19.33333333,  2.75      , 10.        , 63.11111111,\n",
              "        61.875     , -1.        , 52.71428571,  0.        , 63.11111111],\n",
              "       [-2.        ,  2.5       , 30.4       , 23.42857143, 53.4       ,\n",
              "        39.44444444, 61.875     , 16.5       , 55.22222222, 35.6       ]])"
            ]
          },
          "metadata": {},
          "execution_count": 133
        }
      ]
    },
    {
      "cell_type": "markdown",
      "metadata": {
        "id": "BQt16Gmz5sv4"
      },
      "source": [
        "- Transposing arrays and inner matrix product"
      ]
    },
    {
      "cell_type": "code",
      "metadata": {
        "id": "GMP_1GmM5sv4",
        "colab": {
          "base_uri": "https://localhost:8080/"
        },
        "outputId": "0415245e-3e6a-4b2f-fee9-cdc0d25dd561"
      },
      "source": [
        "arr1"
      ],
      "execution_count": null,
      "outputs": [
        {
          "output_type": "execute_result",
          "data": {
            "text/plain": [
              "array([[4, 3, 1, 9, 1, 3, 4, 1, 1, 9],\n",
              "       [6, 3, 7, 4, 3, 8, 7, 2, 0, 6],\n",
              "       [0, 5, 8, 6, 9, 2, 3, 3, 3, 9],\n",
              "       [4, 6, 2, 0, 0, 5, 3, 4, 4, 4],\n",
              "       [2, 3, 5, 1, 9, 2, 3, 2, 8, 4],\n",
              "       [3, 9, 5, 3, 6, 3, 6, 2, 3, 0],\n",
              "       [4, 8, 9, 8, 7, 6, 5, 8, 4, 0],\n",
              "       [1, 5, 3, 3, 1, 6, 1, 6, 6, 8],\n",
              "       [8, 4, 1, 6, 8, 9, 1, 9, 0, 8],\n",
              "       [2, 5, 8, 4, 6, 5, 9, 6, 7, 4]])"
            ]
          },
          "metadata": {},
          "execution_count": 134
        }
      ]
    },
    {
      "cell_type": "code",
      "metadata": {
        "id": "VbyEOZqQ5sv5",
        "colab": {
          "base_uri": "https://localhost:8080/"
        },
        "outputId": "5de2e1c7-13b3-4ff5-aca3-6ee2cf77f404"
      },
      "source": [
        "arr1.T"
      ],
      "execution_count": null,
      "outputs": [
        {
          "output_type": "execute_result",
          "data": {
            "text/plain": [
              "array([[4, 6, 0, 4, 2, 3, 4, 1, 8, 2],\n",
              "       [3, 3, 5, 6, 3, 9, 8, 5, 4, 5],\n",
              "       [1, 7, 8, 2, 5, 5, 9, 3, 1, 8],\n",
              "       [9, 4, 6, 0, 1, 3, 8, 3, 6, 4],\n",
              "       [1, 3, 9, 0, 9, 6, 7, 1, 8, 6],\n",
              "       [3, 8, 2, 5, 2, 3, 6, 6, 9, 5],\n",
              "       [4, 7, 3, 3, 3, 6, 5, 1, 1, 9],\n",
              "       [1, 2, 3, 4, 2, 2, 8, 6, 9, 6],\n",
              "       [1, 0, 3, 4, 8, 3, 4, 6, 0, 7],\n",
              "       [9, 6, 9, 4, 4, 0, 0, 8, 8, 4]])"
            ]
          },
          "metadata": {},
          "execution_count": 135
        }
      ]
    },
    {
      "cell_type": "code",
      "metadata": {
        "id": "TutW5Qyy5sv7",
        "colab": {
          "base_uri": "https://localhost:8080/"
        },
        "outputId": "3447e193-8982-4980-e28c-da2da01a94a9"
      },
      "source": [
        "np.dot(arr1,arr2)"
      ],
      "execution_count": null,
      "outputs": [
        {
          "output_type": "execute_result",
          "data": {
            "text/plain": [
              "array([[140, 126, 217, 181, 211, 178, 138,  98, 178, 222],\n",
              "       [125, 172, 280, 240, 209, 204, 203, 157, 223, 253],\n",
              "       [186, 175, 279, 267, 210, 249, 228, 142, 256, 248],\n",
              "       [104, 111, 168, 173, 170, 190, 106, 127, 152, 208],\n",
              "       [170, 142, 205, 166, 163, 220, 170, 147, 199, 196],\n",
              "       [168, 142, 226, 201, 157, 192, 155, 139, 167, 194],\n",
              "       [262, 264, 368, 325, 221, 289, 212, 179, 274, 294],\n",
              "       [140, 145, 219, 242, 231, 237, 124, 152, 218, 266],\n",
              "       [224, 186, 336, 280, 234, 326, 214, 175, 222, 294],\n",
              "       [202, 242, 319, 272, 240, 266, 201, 195, 310, 291]])"
            ]
          },
          "metadata": {},
          "execution_count": 136
        }
      ]
    },
    {
      "cell_type": "code",
      "source": [
        "np.dot(arr1,np.arange(10)) #10,10 x 10,1"
      ],
      "metadata": {
        "colab": {
          "base_uri": "https://localhost:8080/"
        },
        "id": "CgJh53DDv9nu",
        "outputId": "a94620cf-c4bf-479f-cea7-a98f5a89e4d9"
      },
      "execution_count": null,
      "outputs": [
        {
          "output_type": "execute_result",
          "data": {
            "text/plain": [
              "array([171, 191, 229, 149, 194, 141, 226, 222, 242, 270])"
            ]
          },
          "metadata": {},
          "execution_count": 161
        }
      ]
    },
    {
      "cell_type": "markdown",
      "metadata": {
        "id": "DitlygOO5swM"
      },
      "source": [
        "### Mathematical and Statistical Methods\n",
        "\n",
        "- A set of mathematical functions which compute statistics about an entire array or about the data along an axis are accessible as array methods.\n"
      ]
    },
    {
      "cell_type": "markdown",
      "metadata": {
        "id": "_xPMelpI5sv8"
      },
      "source": [
        "\n",
        "Algebric operations\n",
        "\n",
        "```\n",
        "+\tnp.add\tAddition (e.g., 1 + 1 = 2)\n",
        "-\tnp.subtract\tSubtraction (e.g., 3 - 2 = 1)\n",
        "-\tnp.negative\tUnary negation (e.g., -2)\n",
        "*\tnp.multiply\tMultiplication (e.g., 2 * 3 = 6)\n",
        "/\tnp.divide\tDivision (e.g., 3 / 2 = 1.5)\n",
        "//\tnp.floor_divide\tFloor division (e.g., 3 // 2 = 1)\n",
        "**\tnp.power\tExponentiation (e.g., 2 ** 3 = 8)\n",
        "%\tnp.mod\tModulus/remainder (e.g., 9 % 4 = 1)\n",
        "```\n",
        "\n",
        "Trigonometric functions:\n",
        "\n",
        "```\n",
        "sin, cos, tan\tcompute sine, cosine and tangent of angles\n",
        "arcsin, arccos, arctan\tcalculate inverse sine, cosine and tangent\n",
        "hypot\tcalculate hypotenuse of given right triangle\n",
        "sinh, cosh, tanh\tcompute hyperbolic sine, cosine and tangent\n",
        "arcsinh, arccosh, arctanh\tcompute inverse hyperbolic sine, cosine and tangent\n",
        "deg2rad\tconvert degree into radians\n",
        "rad2deg\tconvert radians into degree\n",
        "```\n",
        "\n",
        "Statistical functions:\n",
        "\n",
        "```\n",
        "amin, amax\treturns minimum or maximum of an array or along an axis\n",
        "ptp\treturns range of values (maximum-minimum) of an array or along an axis\n",
        "percentile(a, p, axis)\tcalculate pth percentile of array or along specified axis\n",
        "median\tcompute median of data along specified axis\n",
        "mean\tcompute mean of data along specified axis\n",
        "std\tcompute standard deviation of data along specified axis\n",
        "var\tcompute variance of data along specified axis\n",
        "average\tcompute average of data along specified axis\n",
        "```"
      ]
    },
    {
      "cell_type": "code",
      "metadata": {
        "id": "KbKxl9tKVpt1",
        "colab": {
          "base_uri": "https://localhost:8080/"
        },
        "outputId": "250fa607-2294-453f-bf6d-7bd97495633b"
      },
      "source": [
        "arr1"
      ],
      "execution_count": null,
      "outputs": [
        {
          "output_type": "execute_result",
          "data": {
            "text/plain": [
              "array([[4, 3, 1, 9, 1, 3, 4, 1, 1, 9],\n",
              "       [6, 3, 7, 4, 3, 8, 7, 2, 0, 6],\n",
              "       [0, 5, 8, 6, 9, 2, 3, 3, 3, 9],\n",
              "       [4, 6, 2, 0, 0, 5, 3, 4, 4, 4],\n",
              "       [2, 3, 5, 1, 9, 2, 3, 2, 8, 4],\n",
              "       [3, 9, 5, 3, 6, 3, 6, 2, 3, 0],\n",
              "       [4, 8, 9, 8, 7, 6, 5, 8, 4, 0],\n",
              "       [1, 5, 3, 3, 1, 6, 1, 6, 6, 8],\n",
              "       [8, 4, 1, 6, 8, 9, 1, 9, 0, 8],\n",
              "       [2, 5, 8, 4, 6, 5, 9, 6, 7, 4]])"
            ]
          },
          "metadata": {},
          "execution_count": 137
        }
      ]
    },
    {
      "cell_type": "code",
      "metadata": {
        "id": "K45G242FCfI1",
        "colab": {
          "base_uri": "https://localhost:8080/"
        },
        "outputId": "c12bc249-f089-4fbd-ea47-91e22bbc7901"
      },
      "source": [
        "np.median(arr1)"
      ],
      "execution_count": null,
      "outputs": [
        {
          "output_type": "execute_result",
          "data": {
            "text/plain": [
              "4.0"
            ]
          },
          "metadata": {},
          "execution_count": 138
        }
      ]
    },
    {
      "cell_type": "code",
      "metadata": {
        "id": "yTulXGgo5sv8",
        "colab": {
          "base_uri": "https://localhost:8080/"
        },
        "outputId": "e44b18cb-d8d2-4498-a1c7-3ba667d496bd"
      },
      "source": [
        "np.add(arr1,arr2)    # subtract, multiply, divide"
      ],
      "execution_count": null,
      "outputs": [
        {
          "output_type": "execute_result",
          "data": {
            "text/plain": [
              "array([[10,  8,  7,  9,  3, 12, 12,  2,  2, 15],\n",
              "       [11,  3, 11, 13,  9, 15, 10,  6,  1, 13],\n",
              "       [ 1, 13, 15, 15, 10,  5, 12,  4, 11, 14],\n",
              "       [13, 12, 11,  6,  6,  7,  4,  4,  8,  9],\n",
              "       [ 9,  4, 11,  3,  9,  8, 10,  6, 10,  4],\n",
              "       [ 3,  9, 12, 12, 14,  5,  6, 11,  5,  7],\n",
              "       [ 4, 13, 14,  8, 11,  6,  7, 12, 12,  3],\n",
              "       [ 6, 14, 10,  9,  2, 15,  2,  7, 14, 13],\n",
              "       [15,  9,  4,  8, 16, 16,  1, 15,  7, 16],\n",
              "       [ 2,  6, 12, 10, 15, 13, 16,  9, 15, 13]])"
            ]
          },
          "metadata": {},
          "execution_count": 139
        }
      ]
    },
    {
      "cell_type": "code",
      "metadata": {
        "id": "b4K6DQ9ACo5W",
        "colab": {
          "base_uri": "https://localhost:8080/"
        },
        "outputId": "75bc981a-a06f-4ef7-a461-fbcd8de84d83"
      },
      "source": [
        "arr1+arr2"
      ],
      "execution_count": null,
      "outputs": [
        {
          "output_type": "execute_result",
          "data": {
            "text/plain": [
              "array([[10,  8,  7,  9,  3, 12, 12,  2,  2, 15],\n",
              "       [11,  3, 11, 13,  9, 15, 10,  6,  1, 13],\n",
              "       [ 1, 13, 15, 15, 10,  5, 12,  4, 11, 14],\n",
              "       [13, 12, 11,  6,  6,  7,  4,  4,  8,  9],\n",
              "       [ 9,  4, 11,  3,  9,  8, 10,  6, 10,  4],\n",
              "       [ 3,  9, 12, 12, 14,  5,  6, 11,  5,  7],\n",
              "       [ 4, 13, 14,  8, 11,  6,  7, 12, 12,  3],\n",
              "       [ 6, 14, 10,  9,  2, 15,  2,  7, 14, 13],\n",
              "       [15,  9,  4,  8, 16, 16,  1, 15,  7, 16],\n",
              "       [ 2,  6, 12, 10, 15, 13, 16,  9, 15, 13]])"
            ]
          },
          "metadata": {},
          "execution_count": 140
        }
      ]
    },
    {
      "cell_type": "markdown",
      "metadata": {
        "id": "MMuJPBF15swE"
      },
      "source": [
        "- **np.where** returns elements depending on condition"
      ]
    },
    {
      "cell_type": "code",
      "metadata": {
        "id": "8u7LMIsK5swE"
      },
      "source": [
        "a = np.arange(1,11)"
      ],
      "execution_count": null,
      "outputs": []
    },
    {
      "cell_type": "code",
      "metadata": {
        "id": "eaAGHo755swF",
        "colab": {
          "base_uri": "https://localhost:8080/"
        },
        "outputId": "69ca841b-ef9d-4155-e5f4-220c713ce8ef"
      },
      "source": [
        "a"
      ],
      "execution_count": null,
      "outputs": [
        {
          "output_type": "execute_result",
          "data": {
            "text/plain": [
              "array([ 1,  2,  3,  4,  5,  6,  7,  8,  9, 10])"
            ]
          },
          "metadata": {},
          "execution_count": 142
        }
      ]
    },
    {
      "cell_type": "code",
      "metadata": {
        "id": "n73DBmDx5swG",
        "colab": {
          "base_uri": "https://localhost:8080/"
        },
        "outputId": "702b43c1-96b8-43eb-ae9d-847fddf92d77"
      },
      "source": [
        "np.where(a>5,0,10)"
      ],
      "execution_count": null,
      "outputs": [
        {
          "output_type": "execute_result",
          "data": {
            "text/plain": [
              "array([10, 10, 10, 10, 10,  0,  0,  0,  0,  0])"
            ]
          },
          "metadata": {},
          "execution_count": 143
        }
      ]
    },
    {
      "cell_type": "code",
      "metadata": {
        "id": "dxYA_32J5swJ"
      },
      "source": [
        "b = np.arange(10,20)"
      ],
      "execution_count": null,
      "outputs": []
    },
    {
      "cell_type": "code",
      "metadata": {
        "id": "4dq17DSI5swK",
        "colab": {
          "base_uri": "https://localhost:8080/"
        },
        "outputId": "d7e20bbb-002f-4a19-bc18-52f43216b872"
      },
      "source": [
        "b"
      ],
      "execution_count": null,
      "outputs": [
        {
          "output_type": "execute_result",
          "data": {
            "text/plain": [
              "array([10, 11, 12, 13, 14, 15, 16, 17, 18, 19])"
            ]
          },
          "metadata": {},
          "execution_count": 145
        }
      ]
    },
    {
      "cell_type": "code",
      "metadata": {
        "id": "SASe9Li_5swL",
        "colab": {
          "base_uri": "https://localhost:8080/"
        },
        "outputId": "85e3d84a-926d-42d2-fc38-1bc24188bead"
      },
      "source": [
        "np.where(a%2==1,a,b)"
      ],
      "execution_count": null,
      "outputs": [
        {
          "output_type": "execute_result",
          "data": {
            "text/plain": [
              "array([ 1, 11,  3, 13,  5, 15,  7, 17,  9, 19])"
            ]
          },
          "metadata": {},
          "execution_count": 146
        }
      ]
    },
    {
      "cell_type": "markdown",
      "metadata": {
        "id": "UCzNEXTS5swU"
      },
      "source": [
        "## Boolean Arrays\n",
        "\n",
        "- Boolean values are coerced to 1 (True) and 0 (False) in the above methods.\n",
        "- Sum is often used as a means of counting True values in a boolean array.\n"
      ]
    },
    {
      "cell_type": "code",
      "metadata": {
        "id": "mIw_sXAG5swZ"
      },
      "source": [
        "bools = np.array([True,True,False,False,True])"
      ],
      "execution_count": null,
      "outputs": []
    },
    {
      "cell_type": "code",
      "metadata": {
        "id": "q7U_Ads25swa",
        "colab": {
          "base_uri": "https://localhost:8080/"
        },
        "outputId": "ae43cc73-dcba-4672-a748-18db72898384"
      },
      "source": [
        "bools.sum()"
      ],
      "execution_count": null,
      "outputs": [
        {
          "output_type": "execute_result",
          "data": {
            "text/plain": [
              "3"
            ]
          },
          "metadata": {},
          "execution_count": 148
        }
      ]
    },
    {
      "cell_type": "code",
      "metadata": {
        "id": "NGBVHUCc5swb",
        "colab": {
          "base_uri": "https://localhost:8080/"
        },
        "outputId": "9782b4d2-055a-48a5-d296-23ee8c3b7cf0"
      },
      "source": [
        "bools.any()"
      ],
      "execution_count": null,
      "outputs": [
        {
          "output_type": "execute_result",
          "data": {
            "text/plain": [
              "True"
            ]
          },
          "metadata": {},
          "execution_count": 149
        }
      ]
    },
    {
      "cell_type": "code",
      "metadata": {
        "id": "X5imyaHW5swc",
        "colab": {
          "base_uri": "https://localhost:8080/"
        },
        "outputId": "414662b6-b142-42ec-a6ec-eab21e032d64"
      },
      "source": [
        "bools.all()"
      ],
      "execution_count": null,
      "outputs": [
        {
          "output_type": "execute_result",
          "data": {
            "text/plain": [
              "False"
            ]
          },
          "metadata": {},
          "execution_count": 150
        }
      ]
    },
    {
      "cell_type": "code",
      "metadata": {
        "id": "AZbeRkfk5swe",
        "colab": {
          "base_uri": "https://localhost:8080/"
        },
        "outputId": "c5affd59-debd-4f56-9248-2092a224e1c8"
      },
      "source": [
        "bools[:2].all()"
      ],
      "execution_count": null,
      "outputs": [
        {
          "output_type": "execute_result",
          "data": {
            "text/plain": [
              "True"
            ]
          },
          "metadata": {},
          "execution_count": 151
        }
      ]
    },
    {
      "cell_type": "markdown",
      "metadata": {
        "id": "8PpBf9z35swg"
      },
      "source": [
        "## Sorting\n",
        "- Like Python’s built-in list type, NumPy arrays can be sorted in-place using the sort method"
      ]
    },
    {
      "cell_type": "code",
      "metadata": {
        "id": "1OEKB0QF5swk"
      },
      "source": [
        "arrsort = np.random.randn(4,3)"
      ],
      "execution_count": null,
      "outputs": []
    },
    {
      "cell_type": "code",
      "metadata": {
        "id": "0jnOF5Dm5swl",
        "colab": {
          "base_uri": "https://localhost:8080/"
        },
        "outputId": "897ea221-d4df-4861-d4f8-0b376fd1305e"
      },
      "source": [
        "arrsort"
      ],
      "execution_count": null,
      "outputs": [
        {
          "output_type": "execute_result",
          "data": {
            "text/plain": [
              "array([[ 1.08592746, -0.04484659,  0.59166461],\n",
              "       [-1.2718944 ,  1.19194165,  0.12704037],\n",
              "       [-1.87742076, -0.51700415, -0.08045102],\n",
              "       [ 1.16589463,  1.99997184,  0.53528167]])"
            ]
          },
          "metadata": {},
          "execution_count": 153
        }
      ]
    },
    {
      "cell_type": "code",
      "metadata": {
        "id": "PzTNRv0l5swm"
      },
      "source": [
        "arrsort.sort(0)    # righe"
      ],
      "execution_count": null,
      "outputs": []
    },
    {
      "cell_type": "code",
      "metadata": {
        "id": "26GggF0Y5swn",
        "colab": {
          "base_uri": "https://localhost:8080/"
        },
        "outputId": "c7f965a2-08ae-41aa-b7a8-c5e86dac02f8"
      },
      "source": [
        "arrsort"
      ],
      "execution_count": null,
      "outputs": [
        {
          "output_type": "execute_result",
          "data": {
            "text/plain": [
              "array([[-1.87742076, -0.51700415, -0.08045102],\n",
              "       [-1.2718944 , -0.04484659,  0.12704037],\n",
              "       [ 1.08592746,  1.19194165,  0.53528167],\n",
              "       [ 1.16589463,  1.99997184,  0.59166461]])"
            ]
          },
          "metadata": {},
          "execution_count": 155
        }
      ]
    },
    {
      "cell_type": "code",
      "metadata": {
        "id": "UnSgk3Ox5swo"
      },
      "source": [
        "arrsort.sort(1)    # colonne"
      ],
      "execution_count": null,
      "outputs": []
    },
    {
      "cell_type": "code",
      "metadata": {
        "id": "B9NjXY9F5sws",
        "colab": {
          "base_uri": "https://localhost:8080/"
        },
        "outputId": "276477c0-d863-454f-f145-16cba38b79ff"
      },
      "source": [
        "arrsort"
      ],
      "execution_count": null,
      "outputs": [
        {
          "output_type": "execute_result",
          "data": {
            "text/plain": [
              "array([[-1.87742076, -0.51700415, -0.08045102],\n",
              "       [-1.2718944 , -0.04484659,  0.12704037],\n",
              "       [ 0.53528167,  1.08592746,  1.19194165],\n",
              "       [ 0.59166461,  1.16589463,  1.99997184]])"
            ]
          },
          "metadata": {},
          "execution_count": 157
        }
      ]
    },
    {
      "cell_type": "markdown",
      "metadata": {
        "id": "3XxfwYkT5swu"
      },
      "source": [
        "## Unique and Other Set Logic\n",
        "\n",
        "- NumPy has some basic set operations for one-dimensional ndarrays."
      ]
    },
    {
      "cell_type": "code",
      "metadata": {
        "id": "yY6lGgGz5swu"
      },
      "source": [
        "names = np.array(['Bob', 'Joe', 'Will', 'Bob', 'Will', 'Joe', 'Joe'])"
      ],
      "execution_count": null,
      "outputs": []
    },
    {
      "cell_type": "code",
      "metadata": {
        "id": "SwB_nSG65swv",
        "colab": {
          "base_uri": "https://localhost:8080/"
        },
        "outputId": "d88b4815-8197-41c0-f8b3-c82b23268a97"
      },
      "source": [
        "np.unique(names)"
      ],
      "execution_count": null,
      "outputs": [
        {
          "output_type": "execute_result",
          "data": {
            "text/plain": [
              "array(['Bob', 'Joe', 'Will'], dtype='<U4')"
            ]
          },
          "metadata": {},
          "execution_count": 159
        }
      ]
    },
    {
      "cell_type": "code",
      "metadata": {
        "id": "wZ0jF9iU5swx"
      },
      "source": [],
      "execution_count": null,
      "outputs": []
    }
  ]
}